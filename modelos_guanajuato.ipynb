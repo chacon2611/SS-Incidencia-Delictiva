{
 "cells": [
  {
   "cell_type": "markdown",
   "id": "003d00bb",
   "metadata": {},
   "source": [
    "# Modelos"
   ]
  },
  {
   "cell_type": "code",
   "execution_count": 1,
   "id": "70e55c17",
   "metadata": {},
   "outputs": [],
   "source": [
    "import pandas as pd\n",
    "import numpy as np\n",
    "import scipy as sp\n",
    "import seaborn as sns\n",
    "import matplotlib.pyplot as plt\n",
    "from itertools import cycle\n",
    "from itertools import combinations\n",
    "from scipy import stats\n",
    "from statsmodels import graphics,tsa\n",
    "from statsmodels.tsa import stattools\n",
    "import statsmodels.graphics.tsaplots as tsp\n",
    "import statsmodels.api as sm\n",
    "\n",
    "# Modelado y Forecasting\n",
    "# ==============================================================================\n",
    "from sklearn.linear_model import LinearRegression\n",
    "from sklearn.linear_model import Lasso\n",
    "from sklearn.ensemble import RandomForestRegressor\n",
    "from sklearn.metrics import mean_squared_error\n",
    "from sklearn.preprocessing import StandardScaler\n",
    "from sklearn.pipeline import make_pipeline\n",
    "\n",
    "from skforecast.ForecasterAutoreg import ForecasterAutoreg\n",
    "from skforecast.ForecasterAutoregCustom import ForecasterAutoregCustom\n",
    "from skforecast.ForecasterAutoregMultiOutput import ForecasterAutoregMultiOutput\n",
    "from skforecast.model_selection import grid_search_forecaster\n",
    "from skforecast.model_selection import backtesting_forecaster\n",
    "\n",
    "from joblib import dump, load\n",
    "\n",
    "# ARIMA\n",
    "from pmdarima import auto_arima\n",
    "from statsmodels.tsa.statespace.sarimax import SARIMAX\n",
    "from sklearn.metrics import mean_squared_error\n",
    "from statsmodels.tools.eval_measures import rmse"
   ]
  },
  {
   "cell_type": "code",
   "execution_count": 2,
   "id": "b8219ec3",
   "metadata": {},
   "outputs": [
    {
     "data": {
      "text/html": [
       "<div>\n",
       "<style scoped>\n",
       "    .dataframe tbody tr th:only-of-type {\n",
       "        vertical-align: middle;\n",
       "    }\n",
       "\n",
       "    .dataframe tbody tr th {\n",
       "        vertical-align: top;\n",
       "    }\n",
       "\n",
       "    .dataframe thead th {\n",
       "        text-align: right;\n",
       "    }\n",
       "</style>\n",
       "<table border=\"1\" class=\"dataframe\">\n",
       "  <thead>\n",
       "    <tr style=\"text-align: right;\">\n",
       "      <th></th>\n",
       "      <th>Fecha</th>\n",
       "      <th>('Abasolo_Homicidio_Homicidio doloso_Con arma de fuego',)</th>\n",
       "      <th>('Abasolo_Homicidio_Homicidio doloso_Con arma blanca',)</th>\n",
       "      <th>('Abasolo_Homicidio_Homicidio doloso_Con otro elemento',)</th>\n",
       "      <th>('Abasolo_Homicidio_Homicidio doloso_No especificado',)</th>\n",
       "      <th>('Abasolo_Homicidio_Homicidio culposo_Con arma de fuego',)</th>\n",
       "      <th>('Abasolo_Homicidio_Homicidio culposo_Con arma blanca',)</th>\n",
       "      <th>('Abasolo_Homicidio_Homicidio culposo_En accidente de tránsito',)</th>\n",
       "      <th>('Abasolo_Homicidio_Homicidio culposo_Con otro elemento',)</th>\n",
       "      <th>('Abasolo_Homicidio_Homicidio culposo_No especificado',)</th>\n",
       "      <th>...</th>\n",
       "      <th>('Yuriria_Narcomenudeo_Narcomenudeo_Narcomenudeo',)</th>\n",
       "      <th>('Yuriria_Amenazas_Amenazas_Amenazas',)</th>\n",
       "      <th>('Yuriria_Allanamiento de morada_Allanamiento de morada_Allanamiento de morada',)</th>\n",
       "      <th>('Yuriria_Evasión de presos_Evasión de presos_Evasión de presos',)</th>\n",
       "      <th>('Yuriria_Falsedad_Falsedad_Falsedad',)</th>\n",
       "      <th>('Yuriria_Falsificación_Falsificación_Falsificación',)</th>\n",
       "      <th>('Yuriria_Contra el medio ambiente_Contra el medio ambiente_Contra el medio ambiente',)</th>\n",
       "      <th>('Yuriria_Delitos cometidos por servidores públicos_Delitos cometidos por servidores públicos_Delitos cometidos por servidores públicos',)</th>\n",
       "      <th>('Yuriria_Electorales_Electorales_Electorales',)</th>\n",
       "      <th>('Yuriria_Otros delitos del Fuero Común_Otros delitos del Fuero Común_Otros delitos del Fuero Común',)</th>\n",
       "    </tr>\n",
       "  </thead>\n",
       "  <tbody>\n",
       "    <tr>\n",
       "      <th>0</th>\n",
       "      <td>2015-01-01</td>\n",
       "      <td>0.0</td>\n",
       "      <td>0.0</td>\n",
       "      <td>0.0</td>\n",
       "      <td>0.0</td>\n",
       "      <td>0.0</td>\n",
       "      <td>0.0</td>\n",
       "      <td>1.0</td>\n",
       "      <td>2.0</td>\n",
       "      <td>0.0</td>\n",
       "      <td>...</td>\n",
       "      <td>1.0</td>\n",
       "      <td>0.0</td>\n",
       "      <td>0.0</td>\n",
       "      <td>0.0</td>\n",
       "      <td>0.0</td>\n",
       "      <td>0.0</td>\n",
       "      <td>0.0</td>\n",
       "      <td>0.0</td>\n",
       "      <td>0.0</td>\n",
       "      <td>5.0</td>\n",
       "    </tr>\n",
       "    <tr>\n",
       "      <th>1</th>\n",
       "      <td>2015-02-01</td>\n",
       "      <td>0.0</td>\n",
       "      <td>0.0</td>\n",
       "      <td>0.0</td>\n",
       "      <td>0.0</td>\n",
       "      <td>0.0</td>\n",
       "      <td>0.0</td>\n",
       "      <td>1.0</td>\n",
       "      <td>1.0</td>\n",
       "      <td>0.0</td>\n",
       "      <td>...</td>\n",
       "      <td>0.0</td>\n",
       "      <td>0.0</td>\n",
       "      <td>1.0</td>\n",
       "      <td>0.0</td>\n",
       "      <td>0.0</td>\n",
       "      <td>0.0</td>\n",
       "      <td>0.0</td>\n",
       "      <td>0.0</td>\n",
       "      <td>0.0</td>\n",
       "      <td>14.0</td>\n",
       "    </tr>\n",
       "    <tr>\n",
       "      <th>2</th>\n",
       "      <td>2015-03-01</td>\n",
       "      <td>1.0</td>\n",
       "      <td>0.0</td>\n",
       "      <td>0.0</td>\n",
       "      <td>0.0</td>\n",
       "      <td>0.0</td>\n",
       "      <td>0.0</td>\n",
       "      <td>1.0</td>\n",
       "      <td>1.0</td>\n",
       "      <td>0.0</td>\n",
       "      <td>...</td>\n",
       "      <td>2.0</td>\n",
       "      <td>1.0</td>\n",
       "      <td>0.0</td>\n",
       "      <td>0.0</td>\n",
       "      <td>0.0</td>\n",
       "      <td>0.0</td>\n",
       "      <td>0.0</td>\n",
       "      <td>0.0</td>\n",
       "      <td>0.0</td>\n",
       "      <td>7.0</td>\n",
       "    </tr>\n",
       "    <tr>\n",
       "      <th>3</th>\n",
       "      <td>2015-04-01</td>\n",
       "      <td>0.0</td>\n",
       "      <td>0.0</td>\n",
       "      <td>0.0</td>\n",
       "      <td>0.0</td>\n",
       "      <td>0.0</td>\n",
       "      <td>0.0</td>\n",
       "      <td>1.0</td>\n",
       "      <td>2.0</td>\n",
       "      <td>0.0</td>\n",
       "      <td>...</td>\n",
       "      <td>0.0</td>\n",
       "      <td>0.0</td>\n",
       "      <td>0.0</td>\n",
       "      <td>0.0</td>\n",
       "      <td>0.0</td>\n",
       "      <td>0.0</td>\n",
       "      <td>0.0</td>\n",
       "      <td>0.0</td>\n",
       "      <td>0.0</td>\n",
       "      <td>14.0</td>\n",
       "    </tr>\n",
       "    <tr>\n",
       "      <th>4</th>\n",
       "      <td>2015-05-01</td>\n",
       "      <td>1.0</td>\n",
       "      <td>0.0</td>\n",
       "      <td>0.0</td>\n",
       "      <td>0.0</td>\n",
       "      <td>0.0</td>\n",
       "      <td>0.0</td>\n",
       "      <td>3.0</td>\n",
       "      <td>1.0</td>\n",
       "      <td>0.0</td>\n",
       "      <td>...</td>\n",
       "      <td>1.0</td>\n",
       "      <td>0.0</td>\n",
       "      <td>0.0</td>\n",
       "      <td>0.0</td>\n",
       "      <td>0.0</td>\n",
       "      <td>0.0</td>\n",
       "      <td>0.0</td>\n",
       "      <td>0.0</td>\n",
       "      <td>0.0</td>\n",
       "      <td>14.0</td>\n",
       "    </tr>\n",
       "    <tr>\n",
       "      <th>...</th>\n",
       "      <td>...</td>\n",
       "      <td>...</td>\n",
       "      <td>...</td>\n",
       "      <td>...</td>\n",
       "      <td>...</td>\n",
       "      <td>...</td>\n",
       "      <td>...</td>\n",
       "      <td>...</td>\n",
       "      <td>...</td>\n",
       "      <td>...</td>\n",
       "      <td>...</td>\n",
       "      <td>...</td>\n",
       "      <td>...</td>\n",
       "      <td>...</td>\n",
       "      <td>...</td>\n",
       "      <td>...</td>\n",
       "      <td>...</td>\n",
       "      <td>...</td>\n",
       "      <td>...</td>\n",
       "      <td>...</td>\n",
       "      <td>...</td>\n",
       "    </tr>\n",
       "    <tr>\n",
       "      <th>79</th>\n",
       "      <td>2021-08-01</td>\n",
       "      <td>1.0</td>\n",
       "      <td>0.0</td>\n",
       "      <td>0.0</td>\n",
       "      <td>0.0</td>\n",
       "      <td>0.0</td>\n",
       "      <td>0.0</td>\n",
       "      <td>0.0</td>\n",
       "      <td>0.0</td>\n",
       "      <td>0.0</td>\n",
       "      <td>...</td>\n",
       "      <td>6.0</td>\n",
       "      <td>11.0</td>\n",
       "      <td>3.0</td>\n",
       "      <td>0.0</td>\n",
       "      <td>0.0</td>\n",
       "      <td>0.0</td>\n",
       "      <td>0.0</td>\n",
       "      <td>0.0</td>\n",
       "      <td>0.0</td>\n",
       "      <td>19.0</td>\n",
       "    </tr>\n",
       "    <tr>\n",
       "      <th>80</th>\n",
       "      <td>2021-09-01</td>\n",
       "      <td>0.0</td>\n",
       "      <td>0.0</td>\n",
       "      <td>2.0</td>\n",
       "      <td>0.0</td>\n",
       "      <td>0.0</td>\n",
       "      <td>0.0</td>\n",
       "      <td>1.0</td>\n",
       "      <td>1.0</td>\n",
       "      <td>0.0</td>\n",
       "      <td>...</td>\n",
       "      <td>3.0</td>\n",
       "      <td>13.0</td>\n",
       "      <td>0.0</td>\n",
       "      <td>0.0</td>\n",
       "      <td>0.0</td>\n",
       "      <td>0.0</td>\n",
       "      <td>0.0</td>\n",
       "      <td>1.0</td>\n",
       "      <td>0.0</td>\n",
       "      <td>8.0</td>\n",
       "    </tr>\n",
       "    <tr>\n",
       "      <th>81</th>\n",
       "      <td>2021-10-01</td>\n",
       "      <td>NaN</td>\n",
       "      <td>NaN</td>\n",
       "      <td>NaN</td>\n",
       "      <td>NaN</td>\n",
       "      <td>NaN</td>\n",
       "      <td>NaN</td>\n",
       "      <td>NaN</td>\n",
       "      <td>NaN</td>\n",
       "      <td>NaN</td>\n",
       "      <td>...</td>\n",
       "      <td>NaN</td>\n",
       "      <td>NaN</td>\n",
       "      <td>NaN</td>\n",
       "      <td>NaN</td>\n",
       "      <td>NaN</td>\n",
       "      <td>NaN</td>\n",
       "      <td>NaN</td>\n",
       "      <td>NaN</td>\n",
       "      <td>NaN</td>\n",
       "      <td>NaN</td>\n",
       "    </tr>\n",
       "    <tr>\n",
       "      <th>82</th>\n",
       "      <td>2021-11-01</td>\n",
       "      <td>NaN</td>\n",
       "      <td>NaN</td>\n",
       "      <td>NaN</td>\n",
       "      <td>NaN</td>\n",
       "      <td>NaN</td>\n",
       "      <td>NaN</td>\n",
       "      <td>NaN</td>\n",
       "      <td>NaN</td>\n",
       "      <td>NaN</td>\n",
       "      <td>...</td>\n",
       "      <td>NaN</td>\n",
       "      <td>NaN</td>\n",
       "      <td>NaN</td>\n",
       "      <td>NaN</td>\n",
       "      <td>NaN</td>\n",
       "      <td>NaN</td>\n",
       "      <td>NaN</td>\n",
       "      <td>NaN</td>\n",
       "      <td>NaN</td>\n",
       "      <td>NaN</td>\n",
       "    </tr>\n",
       "    <tr>\n",
       "      <th>83</th>\n",
       "      <td>2021-12-01</td>\n",
       "      <td>NaN</td>\n",
       "      <td>NaN</td>\n",
       "      <td>NaN</td>\n",
       "      <td>NaN</td>\n",
       "      <td>NaN</td>\n",
       "      <td>NaN</td>\n",
       "      <td>NaN</td>\n",
       "      <td>NaN</td>\n",
       "      <td>NaN</td>\n",
       "      <td>...</td>\n",
       "      <td>NaN</td>\n",
       "      <td>NaN</td>\n",
       "      <td>NaN</td>\n",
       "      <td>NaN</td>\n",
       "      <td>NaN</td>\n",
       "      <td>NaN</td>\n",
       "      <td>NaN</td>\n",
       "      <td>NaN</td>\n",
       "      <td>NaN</td>\n",
       "      <td>NaN</td>\n",
       "    </tr>\n",
       "  </tbody>\n",
       "</table>\n",
       "<p>84 rows × 4509 columns</p>\n",
       "</div>"
      ],
      "text/plain": [
       "         Fecha  ('Abasolo_Homicidio_Homicidio doloso_Con arma de fuego',)  \\\n",
       "0   2015-01-01                                                0.0           \n",
       "1   2015-02-01                                                0.0           \n",
       "2   2015-03-01                                                1.0           \n",
       "3   2015-04-01                                                0.0           \n",
       "4   2015-05-01                                                1.0           \n",
       "..         ...                                                ...           \n",
       "79  2021-08-01                                                1.0           \n",
       "80  2021-09-01                                                0.0           \n",
       "81  2021-10-01                                                NaN           \n",
       "82  2021-11-01                                                NaN           \n",
       "83  2021-12-01                                                NaN           \n",
       "\n",
       "    ('Abasolo_Homicidio_Homicidio doloso_Con arma blanca',)  \\\n",
       "0                                                 0.0         \n",
       "1                                                 0.0         \n",
       "2                                                 0.0         \n",
       "3                                                 0.0         \n",
       "4                                                 0.0         \n",
       "..                                                ...         \n",
       "79                                                0.0         \n",
       "80                                                0.0         \n",
       "81                                                NaN         \n",
       "82                                                NaN         \n",
       "83                                                NaN         \n",
       "\n",
       "    ('Abasolo_Homicidio_Homicidio doloso_Con otro elemento',)  \\\n",
       "0                                                 0.0           \n",
       "1                                                 0.0           \n",
       "2                                                 0.0           \n",
       "3                                                 0.0           \n",
       "4                                                 0.0           \n",
       "..                                                ...           \n",
       "79                                                0.0           \n",
       "80                                                2.0           \n",
       "81                                                NaN           \n",
       "82                                                NaN           \n",
       "83                                                NaN           \n",
       "\n",
       "    ('Abasolo_Homicidio_Homicidio doloso_No especificado',)  \\\n",
       "0                                                 0.0         \n",
       "1                                                 0.0         \n",
       "2                                                 0.0         \n",
       "3                                                 0.0         \n",
       "4                                                 0.0         \n",
       "..                                                ...         \n",
       "79                                                0.0         \n",
       "80                                                0.0         \n",
       "81                                                NaN         \n",
       "82                                                NaN         \n",
       "83                                                NaN         \n",
       "\n",
       "    ('Abasolo_Homicidio_Homicidio culposo_Con arma de fuego',)  \\\n",
       "0                                                 0.0            \n",
       "1                                                 0.0            \n",
       "2                                                 0.0            \n",
       "3                                                 0.0            \n",
       "4                                                 0.0            \n",
       "..                                                ...            \n",
       "79                                                0.0            \n",
       "80                                                0.0            \n",
       "81                                                NaN            \n",
       "82                                                NaN            \n",
       "83                                                NaN            \n",
       "\n",
       "    ('Abasolo_Homicidio_Homicidio culposo_Con arma blanca',)  \\\n",
       "0                                                 0.0          \n",
       "1                                                 0.0          \n",
       "2                                                 0.0          \n",
       "3                                                 0.0          \n",
       "4                                                 0.0          \n",
       "..                                                ...          \n",
       "79                                                0.0          \n",
       "80                                                0.0          \n",
       "81                                                NaN          \n",
       "82                                                NaN          \n",
       "83                                                NaN          \n",
       "\n",
       "    ('Abasolo_Homicidio_Homicidio culposo_En accidente de tránsito',)  \\\n",
       "0                                                 1.0                   \n",
       "1                                                 1.0                   \n",
       "2                                                 1.0                   \n",
       "3                                                 1.0                   \n",
       "4                                                 3.0                   \n",
       "..                                                ...                   \n",
       "79                                                0.0                   \n",
       "80                                                1.0                   \n",
       "81                                                NaN                   \n",
       "82                                                NaN                   \n",
       "83                                                NaN                   \n",
       "\n",
       "    ('Abasolo_Homicidio_Homicidio culposo_Con otro elemento',)  \\\n",
       "0                                                 2.0            \n",
       "1                                                 1.0            \n",
       "2                                                 1.0            \n",
       "3                                                 2.0            \n",
       "4                                                 1.0            \n",
       "..                                                ...            \n",
       "79                                                0.0            \n",
       "80                                                1.0            \n",
       "81                                                NaN            \n",
       "82                                                NaN            \n",
       "83                                                NaN            \n",
       "\n",
       "    ('Abasolo_Homicidio_Homicidio culposo_No especificado',)  ...  \\\n",
       "0                                                 0.0         ...   \n",
       "1                                                 0.0         ...   \n",
       "2                                                 0.0         ...   \n",
       "3                                                 0.0         ...   \n",
       "4                                                 0.0         ...   \n",
       "..                                                ...         ...   \n",
       "79                                                0.0         ...   \n",
       "80                                                0.0         ...   \n",
       "81                                                NaN         ...   \n",
       "82                                                NaN         ...   \n",
       "83                                                NaN         ...   \n",
       "\n",
       "    ('Yuriria_Narcomenudeo_Narcomenudeo_Narcomenudeo',)  \\\n",
       "0                                                 1.0     \n",
       "1                                                 0.0     \n",
       "2                                                 2.0     \n",
       "3                                                 0.0     \n",
       "4                                                 1.0     \n",
       "..                                                ...     \n",
       "79                                                6.0     \n",
       "80                                                3.0     \n",
       "81                                                NaN     \n",
       "82                                                NaN     \n",
       "83                                                NaN     \n",
       "\n",
       "    ('Yuriria_Amenazas_Amenazas_Amenazas',)  \\\n",
       "0                                       0.0   \n",
       "1                                       0.0   \n",
       "2                                       1.0   \n",
       "3                                       0.0   \n",
       "4                                       0.0   \n",
       "..                                      ...   \n",
       "79                                     11.0   \n",
       "80                                     13.0   \n",
       "81                                      NaN   \n",
       "82                                      NaN   \n",
       "83                                      NaN   \n",
       "\n",
       "    ('Yuriria_Allanamiento de morada_Allanamiento de morada_Allanamiento de morada',)  \\\n",
       "0                                                 0.0                                   \n",
       "1                                                 1.0                                   \n",
       "2                                                 0.0                                   \n",
       "3                                                 0.0                                   \n",
       "4                                                 0.0                                   \n",
       "..                                                ...                                   \n",
       "79                                                3.0                                   \n",
       "80                                                0.0                                   \n",
       "81                                                NaN                                   \n",
       "82                                                NaN                                   \n",
       "83                                                NaN                                   \n",
       "\n",
       "    ('Yuriria_Evasión de presos_Evasión de presos_Evasión de presos',)  \\\n",
       "0                                                 0.0                    \n",
       "1                                                 0.0                    \n",
       "2                                                 0.0                    \n",
       "3                                                 0.0                    \n",
       "4                                                 0.0                    \n",
       "..                                                ...                    \n",
       "79                                                0.0                    \n",
       "80                                                0.0                    \n",
       "81                                                NaN                    \n",
       "82                                                NaN                    \n",
       "83                                                NaN                    \n",
       "\n",
       "    ('Yuriria_Falsedad_Falsedad_Falsedad',)  \\\n",
       "0                                       0.0   \n",
       "1                                       0.0   \n",
       "2                                       0.0   \n",
       "3                                       0.0   \n",
       "4                                       0.0   \n",
       "..                                      ...   \n",
       "79                                      0.0   \n",
       "80                                      0.0   \n",
       "81                                      NaN   \n",
       "82                                      NaN   \n",
       "83                                      NaN   \n",
       "\n",
       "    ('Yuriria_Falsificación_Falsificación_Falsificación',)  \\\n",
       "0                                                 0.0        \n",
       "1                                                 0.0        \n",
       "2                                                 0.0        \n",
       "3                                                 0.0        \n",
       "4                                                 0.0        \n",
       "..                                                ...        \n",
       "79                                                0.0        \n",
       "80                                                0.0        \n",
       "81                                                NaN        \n",
       "82                                                NaN        \n",
       "83                                                NaN        \n",
       "\n",
       "    ('Yuriria_Contra el medio ambiente_Contra el medio ambiente_Contra el medio ambiente',)  \\\n",
       "0                                                 0.0                                         \n",
       "1                                                 0.0                                         \n",
       "2                                                 0.0                                         \n",
       "3                                                 0.0                                         \n",
       "4                                                 0.0                                         \n",
       "..                                                ...                                         \n",
       "79                                                0.0                                         \n",
       "80                                                0.0                                         \n",
       "81                                                NaN                                         \n",
       "82                                                NaN                                         \n",
       "83                                                NaN                                         \n",
       "\n",
       "    ('Yuriria_Delitos cometidos por servidores públicos_Delitos cometidos por servidores públicos_Delitos cometidos por servidores públicos',)  \\\n",
       "0                                                 0.0                                                                                            \n",
       "1                                                 0.0                                                                                            \n",
       "2                                                 0.0                                                                                            \n",
       "3                                                 0.0                                                                                            \n",
       "4                                                 0.0                                                                                            \n",
       "..                                                ...                                                                                            \n",
       "79                                                0.0                                                                                            \n",
       "80                                                1.0                                                                                            \n",
       "81                                                NaN                                                                                            \n",
       "82                                                NaN                                                                                            \n",
       "83                                                NaN                                                                                            \n",
       "\n",
       "    ('Yuriria_Electorales_Electorales_Electorales',)  \\\n",
       "0                                                0.0   \n",
       "1                                                0.0   \n",
       "2                                                0.0   \n",
       "3                                                0.0   \n",
       "4                                                0.0   \n",
       "..                                               ...   \n",
       "79                                               0.0   \n",
       "80                                               0.0   \n",
       "81                                               NaN   \n",
       "82                                               NaN   \n",
       "83                                               NaN   \n",
       "\n",
       "    ('Yuriria_Otros delitos del Fuero Común_Otros delitos del Fuero Común_Otros delitos del Fuero Común',)  \n",
       "0                                                 5.0                                                       \n",
       "1                                                14.0                                                       \n",
       "2                                                 7.0                                                       \n",
       "3                                                14.0                                                       \n",
       "4                                                14.0                                                       \n",
       "..                                                ...                                                       \n",
       "79                                               19.0                                                       \n",
       "80                                                8.0                                                       \n",
       "81                                                NaN                                                       \n",
       "82                                                NaN                                                       \n",
       "83                                                NaN                                                       \n",
       "\n",
       "[84 rows x 4509 columns]"
      ]
     },
     "execution_count": 2,
     "metadata": {},
     "output_type": "execute_result"
    }
   ],
   "source": [
    "delitos = pd.read_csv(\"tabla_completa.csv\") \n",
    "delitos"
   ]
  },
  {
   "cell_type": "code",
   "execution_count": 3,
   "id": "597467ab",
   "metadata": {},
   "outputs": [
    {
     "data": {
      "text/plain": [
       "<AxesSubplot:title={'center':\"('Abasolo_Homicidio_Homicidio doloso_Con arma de fuego',)\"}>"
      ]
     },
     "execution_count": 3,
     "metadata": {},
     "output_type": "execute_result"
    },
    {
     "data": {
      "image/png": "[encoded data removed]",
      "text/plain": [
       "<Figure size 432x288 with 1 Axes>"
      ]
     },
     "metadata": {
      "needs_background": "light"
     },
     "output_type": "display_data"
    }
   ],
   "source": [
    "titu = delitos.columns[1]\n",
    "delitos.iloc[:,1][:-3].plot(rot=90, title=titu)"
   ]
  },
  {
   "cell_type": "code",
   "execution_count": 4,
   "id": "0e7ba8b0",
   "metadata": {},
   "outputs": [
    {
     "data": {
      "text/plain": [
       "0     0.0\n",
       "1     0.0\n",
       "2     1.0\n",
       "3     0.0\n",
       "4     1.0\n",
       "     ... \n",
       "76    1.0\n",
       "77    1.0\n",
       "78    0.0\n",
       "79    1.0\n",
       "80    0.0\n",
       "Name: ('Abasolo_Homicidio_Homicidio doloso_Con arma de fuego',), Length: 81, dtype: float64"
      ]
     },
     "execution_count": 4,
     "metadata": {},
     "output_type": "execute_result"
    }
   ],
   "source": [
    "abasolo_h_hd_af = delitos.iloc[:,1][:-3]\n",
    "abasolo_h_hd_af"
   ]
  },
  {
   "cell_type": "markdown",
   "id": "bac6ec8b",
   "metadata": {},
   "source": [
    "## Forescasting autorregresivo recursivo."
   ]
  },
  {
   "cell_type": "code",
   "execution_count": 5,
   "id": "9e52eb4b",
   "metadata": {},
   "outputs": [
    {
     "name": "stdout",
     "output_type": "stream",
     "text": [
      "Fechas train : 0 --- 44  (n=45)\n",
      "Fechas test  : 45 --- 80  (n=36)\n"
     ]
    },
    {
     "data": {
      "image/png": "[encoded data removed]",
      "text/plain": [
       "<Figure size 648x288 with 1 Axes>"
      ]
     },
     "metadata": {
      "needs_background": "light"
     },
     "output_type": "display_data"
    }
   ],
   "source": [
    "# ==============================================================================\n",
    "steps = 36\n",
    "datos_train = abasolo_h_hd_af[:-steps]\n",
    "datos_test  = abasolo_h_hd_af[-steps:]\n",
    "\n",
    "print(f\"Fechas train : {datos_train.index.min()} --- {datos_train.index.max()}  (n={len(datos_train)})\")\n",
    "print(f\"Fechas test  : {datos_test.index.min()} --- {datos_test.index.max()}  (n={len(datos_test)})\")\n",
    "\n",
    "fig, ax = plt.subplots(figsize=(9, 4))\n",
    "datos_train.plot(ax=ax, label='train')\n",
    "datos_test.plot(ax=ax, label='test')\n",
    "ax.legend();"
   ]
  },
  {
   "cell_type": "code",
   "execution_count": 6,
   "id": "bbd4b716",
   "metadata": {},
   "outputs": [
    {
     "data": {
      "text/plain": [
       "================= \n",
       "ForecasterAutoreg \n",
       "================= \n",
       "Regressor: RandomForestRegressor(random_state=123) \n",
       "Lags: [1 2 3 4 5 6] \n",
       "Window size: 6 \n",
       "Included exogenous: False \n",
       "Type of exogenous variable: None \n",
       "Exogenous variables names: None \n",
       "Training range: [0, 44] \n",
       "Training index type: RangeIndex \n",
       "Training index frequency: 1 \n",
       "Regressor parameters: {'bootstrap': True, 'ccp_alpha': 0.0, 'criterion': 'squared_error', 'max_depth': None, 'max_features': 1.0, 'max_leaf_nodes': None, 'max_samples': None, 'min_impurity_decrease': 0.0, 'min_samples_leaf': 1, 'min_samples_split': 2, 'min_weight_fraction_leaf': 0.0, 'n_estimators': 100, 'n_jobs': None, 'oob_score': False, 'random_state': 123, 'verbose': 0, 'warm_start': False} \n",
       "Creation date: 2022-08-24 16:26:34 \n",
       "Last fit date: 2022-08-24 16:26:34 \n",
       "Skforecast version: 0.4.3 "
      ]
     },
     "execution_count": 6,
     "metadata": {},
     "output_type": "execute_result"
    }
   ],
   "source": [
    "# Crear y entrenar forecaster\n",
    "# ==============================================================================\n",
    "forecaster = ForecasterAutoreg(\n",
    "                regressor = RandomForestRegressor(random_state=123),\n",
    "                lags = 6\n",
    "             )\n",
    "\n",
    "forecaster.fit(y=datos_train)\n",
    "forecaster"
   ]
  },
  {
   "cell_type": "code",
   "execution_count": 7,
   "id": "6e00c5e2",
   "metadata": {},
   "outputs": [
    {
     "data": {
      "text/plain": [
       "45    4.55\n",
       "46    2.62\n",
       "47    2.44\n",
       "48    4.99\n",
       "49    1.90\n",
       "Name: pred, dtype: float64"
      ]
     },
     "execution_count": 7,
     "metadata": {},
     "output_type": "execute_result"
    }
   ],
   "source": [
    "# Predicciones\n",
    "# ==============================================================================\n",
    "steps = 36\n",
    "predicciones = forecaster.predict(steps=steps)\n",
    "predicciones.head(5)"
   ]
  },
  {
   "cell_type": "code",
   "execution_count": 8,
   "id": "6453e421",
   "metadata": {},
   "outputs": [
    {
     "data": {
      "image/png": "[encoded data removed]",
      "text/plain": [
       "<Figure size 648x288 with 1 Axes>"
      ]
     },
     "metadata": {
      "needs_background": "light"
     },
     "output_type": "display_data"
    }
   ],
   "source": [
    "# Gráfico\n",
    "# ==============================================================================\n",
    "fig, ax = plt.subplots(figsize=(9, 4))\n",
    "datos_train.plot(ax=ax, label='train')\n",
    "datos_test.plot(ax=ax, label='test')\n",
    "predicciones.plot(ax=ax, label='predicciones')\n",
    "ax.legend();"
   ]
  },
  {
   "cell_type": "code",
   "execution_count": 9,
   "id": "ac0e2c58",
   "metadata": {},
   "outputs": [
    {
     "name": "stdout",
     "output_type": "stream",
     "text": [
      "Error de test (mse): 8.860538888888888\n"
     ]
    }
   ],
   "source": [
    "# Error test\n",
    "# ==============================================================================\n",
    "error_mse = mean_squared_error(\n",
    "                y_true = datos_test,\n",
    "                y_pred = predicciones\n",
    "            )\n",
    "\n",
    "print(f\"Error de test (mse): {error_mse}\")"
   ]
  },
  {
   "cell_type": "markdown",
   "id": "dfff434d",
   "metadata": {},
   "source": [
    "### Mismo ejemplo pero con serie de diferencias."
   ]
  },
  {
   "cell_type": "code",
   "execution_count": 10,
   "id": "aedb05c2",
   "metadata": {},
   "outputs": [
    {
     "data": {
      "text/plain": [
       "[<matplotlib.lines.Line2D at 0x7f32ea9a9be0>]"
      ]
     },
     "execution_count": 10,
     "metadata": {},
     "output_type": "execute_result"
    },
    {
     "data": {
      "image/png": "[encoded data removed]",
      "text/plain": [
       "<Figure size 432x288 with 1 Axes>"
      ]
     },
     "metadata": {
      "needs_background": "light"
     },
     "output_type": "display_data"
    }
   ],
   "source": [
    "ejemplo2 = np.array(abasolo_h_hd_af)\n",
    "d = ejemplo2[1:]-ejemplo2[0:-1]\n",
    "d_series = pd.Series(d)\n",
    "plt.plot(d_series)"
   ]
  },
  {
   "cell_type": "code",
   "execution_count": 11,
   "id": "e242f06e",
   "metadata": {},
   "outputs": [
    {
     "name": "stdout",
     "output_type": "stream",
     "text": [
      "Fechas train : 0 --- 43  (n=44)\n",
      "Fechas test  : 44 --- 79  (n=36)\n"
     ]
    },
    {
     "data": {
      "image/png": "[encoded data removed]",
      "text/plain": [
       "<Figure size 648x288 with 1 Axes>"
      ]
     },
     "metadata": {
      "needs_background": "light"
     },
     "output_type": "display_data"
    }
   ],
   "source": [
    "# ==============================================================================\n",
    "steps = 36\n",
    "datos_train = d_series[:-steps]\n",
    "datos_test  = d_series[-steps:]\n",
    "\n",
    "print(f\"Fechas train : {datos_train.index.min()} --- {datos_train.index.max()}  (n={len(datos_train)})\")\n",
    "print(f\"Fechas test  : {datos_test.index.min()} --- {datos_test.index.max()}  (n={len(datos_test)})\")\n",
    "\n",
    "fig, ax = plt.subplots(figsize=(9, 4))\n",
    "datos_train.plot(ax=ax, label='train')\n",
    "datos_test.plot(ax=ax, label='test')\n",
    "ax.legend();"
   ]
  },
  {
   "cell_type": "code",
   "execution_count": 12,
   "id": "56347cef",
   "metadata": {},
   "outputs": [
    {
     "data": {
      "text/plain": [
       "================= \n",
       "ForecasterAutoreg \n",
       "================= \n",
       "Regressor: RandomForestRegressor(random_state=123) \n",
       "Lags: [1 2 3 4 5 6] \n",
       "Window size: 6 \n",
       "Included exogenous: False \n",
       "Type of exogenous variable: None \n",
       "Exogenous variables names: None \n",
       "Training range: [0, 43] \n",
       "Training index type: RangeIndex \n",
       "Training index frequency: 1 \n",
       "Regressor parameters: {'bootstrap': True, 'ccp_alpha': 0.0, 'criterion': 'squared_error', 'max_depth': None, 'max_features': 1.0, 'max_leaf_nodes': None, 'max_samples': None, 'min_impurity_decrease': 0.0, 'min_samples_leaf': 1, 'min_samples_split': 2, 'min_weight_fraction_leaf': 0.0, 'n_estimators': 100, 'n_jobs': None, 'oob_score': False, 'random_state': 123, 'verbose': 0, 'warm_start': False} \n",
       "Creation date: 2022-08-24 16:26:35 \n",
       "Last fit date: 2022-08-24 16:26:35 \n",
       "Skforecast version: 0.4.3 "
      ]
     },
     "execution_count": 12,
     "metadata": {},
     "output_type": "execute_result"
    }
   ],
   "source": [
    "# Crear y entrenar forecaster\n",
    "# ==============================================================================\n",
    "forecaster = ForecasterAutoreg(\n",
    "                regressor = RandomForestRegressor(random_state=123),\n",
    "                lags = 6\n",
    "             )\n",
    "\n",
    "forecaster.fit(y=datos_train)\n",
    "forecaster"
   ]
  },
  {
   "cell_type": "code",
   "execution_count": 13,
   "id": "f8775780",
   "metadata": {},
   "outputs": [
    {
     "data": {
      "text/plain": [
       "44    2.54\n",
       "45   -2.45\n",
       "46   -1.01\n",
       "47    1.69\n",
       "48   -1.58\n",
       "Name: pred, dtype: float64"
      ]
     },
     "execution_count": 13,
     "metadata": {},
     "output_type": "execute_result"
    }
   ],
   "source": [
    "# Predicciones\n",
    "# ==============================================================================\n",
    "steps = 36\n",
    "predicciones = forecaster.predict(steps=steps)\n",
    "predicciones.head(5)"
   ]
  },
  {
   "cell_type": "code",
   "execution_count": 14,
   "id": "53f2551e",
   "metadata": {},
   "outputs": [
    {
     "data": {
      "image/png": "[encoded data removed]",
      "text/plain": [
       "<Figure size 648x288 with 1 Axes>"
      ]
     },
     "metadata": {
      "needs_background": "light"
     },
     "output_type": "display_data"
    }
   ],
   "source": [
    "# Gráfico\n",
    "# ==============================================================================\n",
    "fig, ax = plt.subplots(figsize=(9, 4))\n",
    "datos_train.plot(ax=ax, label='train')\n",
    "datos_test.plot(ax=ax, label='test')\n",
    "predicciones.plot(ax=ax, label='predicciones')\n",
    "ax.legend();"
   ]
  },
  {
   "cell_type": "code",
   "execution_count": 15,
   "id": "d25a504b",
   "metadata": {},
   "outputs": [
    {
     "name": "stdout",
     "output_type": "stream",
     "text": [
      "Error de test (mse): 5.794213888888889\n"
     ]
    }
   ],
   "source": [
    "# Error test\n",
    "# ==============================================================================\n",
    "error_mse = mean_squared_error(\n",
    "                y_true = datos_test,\n",
    "                y_pred = predicciones\n",
    "            )\n",
    "\n",
    "print(f\"Error de test (mse): {error_mse}\")"
   ]
  },
  {
   "cell_type": "markdown",
   "id": "922a68ae",
   "metadata": {},
   "source": [
    "## Modelo ARIMA"
   ]
  },
  {
   "cell_type": "code",
   "execution_count": 16,
   "id": "bac98a5a",
   "metadata": {},
   "outputs": [
    {
     "data": {
      "text/html": [
       "<div>\n",
       "<style scoped>\n",
       "    .dataframe tbody tr th:only-of-type {\n",
       "        vertical-align: middle;\n",
       "    }\n",
       "\n",
       "    .dataframe tbody tr th {\n",
       "        vertical-align: top;\n",
       "    }\n",
       "\n",
       "    .dataframe thead th {\n",
       "        text-align: right;\n",
       "    }\n",
       "</style>\n",
       "<table border=\"1\" class=\"dataframe\">\n",
       "  <thead>\n",
       "    <tr style=\"text-align: right;\">\n",
       "      <th></th>\n",
       "      <th>0</th>\n",
       "    </tr>\n",
       "  </thead>\n",
       "  <tbody>\n",
       "    <tr>\n",
       "      <th>0</th>\n",
       "      <td>0.0</td>\n",
       "    </tr>\n",
       "    <tr>\n",
       "      <th>1</th>\n",
       "      <td>1.0</td>\n",
       "    </tr>\n",
       "    <tr>\n",
       "      <th>2</th>\n",
       "      <td>-1.0</td>\n",
       "    </tr>\n",
       "    <tr>\n",
       "      <th>3</th>\n",
       "      <td>1.0</td>\n",
       "    </tr>\n",
       "    <tr>\n",
       "      <th>4</th>\n",
       "      <td>-1.0</td>\n",
       "    </tr>\n",
       "    <tr>\n",
       "      <th>...</th>\n",
       "      <td>...</td>\n",
       "    </tr>\n",
       "    <tr>\n",
       "      <th>75</th>\n",
       "      <td>-1.0</td>\n",
       "    </tr>\n",
       "    <tr>\n",
       "      <th>76</th>\n",
       "      <td>0.0</td>\n",
       "    </tr>\n",
       "    <tr>\n",
       "      <th>77</th>\n",
       "      <td>-1.0</td>\n",
       "    </tr>\n",
       "    <tr>\n",
       "      <th>78</th>\n",
       "      <td>1.0</td>\n",
       "    </tr>\n",
       "    <tr>\n",
       "      <th>79</th>\n",
       "      <td>-1.0</td>\n",
       "    </tr>\n",
       "  </tbody>\n",
       "</table>\n",
       "<p>80 rows × 1 columns</p>\n",
       "</div>"
      ],
      "text/plain": [
       "      0\n",
       "0   0.0\n",
       "1   1.0\n",
       "2  -1.0\n",
       "3   1.0\n",
       "4  -1.0\n",
       "..  ...\n",
       "75 -1.0\n",
       "76  0.0\n",
       "77 -1.0\n",
       "78  1.0\n",
       "79 -1.0\n",
       "\n",
       "[80 rows x 1 columns]"
      ]
     },
     "execution_count": 16,
     "metadata": {},
     "output_type": "execute_result"
    }
   ],
   "source": [
    "delitos2 = pd.read_csv(\"tabla_completa.csv\", index_col= 'Fecha', parse_dates=True)\n",
    "ejem = pd.DataFrame(d_series)\n",
    "ejem"
   ]
  },
  {
   "cell_type": "code",
   "execution_count": 17,
   "id": "ce140d92",
   "metadata": {},
   "outputs": [
    {
     "name": "stdout",
     "output_type": "stream",
     "text": [
      "Performing stepwise search to minimize aic\n",
      " ARIMA(1,0,1)(0,1,1)[12] intercept   : AIC=inf, Time=0.26 sec\n",
      " ARIMA(0,0,0)(0,1,0)[12] intercept   : AIC=333.854, Time=0.01 sec\n",
      " ARIMA(1,0,0)(1,1,0)[12] intercept   : AIC=311.012, Time=0.07 sec\n",
      " ARIMA(0,0,1)(0,1,1)[12] intercept   : AIC=inf, Time=0.27 sec\n",
      " ARIMA(0,0,0)(0,1,0)[12]             : AIC=331.856, Time=0.01 sec\n",
      " ARIMA(1,0,0)(0,1,0)[12] intercept   : AIC=324.495, Time=0.03 sec\n",
      " ARIMA(1,0,0)(2,1,0)[12] intercept   : AIC=303.527, Time=0.21 sec\n",
      " ARIMA(1,0,0)(2,1,1)[12] intercept   : AIC=inf, Time=0.75 sec\n",
      " ARIMA(1,0,0)(1,1,1)[12] intercept   : AIC=inf, Time=0.43 sec\n",
      " ARIMA(0,0,0)(2,1,0)[12] intercept   : AIC=313.559, Time=0.18 sec\n",
      " ARIMA(2,0,0)(2,1,0)[12] intercept   : AIC=301.711, Time=0.25 sec\n",
      " ARIMA(2,0,0)(1,1,0)[12] intercept   : AIC=308.294, Time=0.11 sec\n",
      " ARIMA(2,0,0)(2,1,1)[12] intercept   : AIC=inf, Time=0.80 sec\n",
      " ARIMA(2,0,0)(1,1,1)[12] intercept   : AIC=inf, Time=0.54 sec\n",
      " ARIMA(3,0,0)(2,1,0)[12] intercept   : AIC=303.618, Time=0.38 sec\n",
      " ARIMA(2,0,1)(2,1,0)[12] intercept   : AIC=303.339, Time=0.43 sec\n",
      " ARIMA(1,0,1)(2,1,0)[12] intercept   : AIC=301.344, Time=0.30 sec\n",
      " ARIMA(1,0,1)(1,1,0)[12] intercept   : AIC=308.380, Time=0.11 sec\n",
      " ARIMA(1,0,1)(2,1,1)[12] intercept   : AIC=inf, Time=0.95 sec\n",
      " ARIMA(1,0,1)(1,1,1)[12] intercept   : AIC=inf, Time=0.43 sec\n",
      " ARIMA(0,0,1)(2,1,0)[12] intercept   : AIC=299.346, Time=0.17 sec\n",
      " ARIMA(0,0,1)(1,1,0)[12] intercept   : AIC=306.519, Time=0.06 sec\n",
      " ARIMA(0,0,1)(2,1,1)[12] intercept   : AIC=inf, Time=0.70 sec\n",
      " ARIMA(0,0,1)(1,1,1)[12] intercept   : AIC=inf, Time=0.37 sec\n",
      " ARIMA(0,0,2)(2,1,0)[12] intercept   : AIC=301.344, Time=0.22 sec\n",
      " ARIMA(1,0,2)(2,1,0)[12] intercept   : AIC=inf, Time=1.05 sec\n",
      " ARIMA(0,0,1)(2,1,0)[12]             : AIC=297.555, Time=0.15 sec\n",
      " ARIMA(0,0,1)(1,1,0)[12]             : AIC=304.556, Time=0.05 sec\n",
      " ARIMA(0,0,1)(2,1,1)[12]             : AIC=inf, Time=0.51 sec\n",
      " ARIMA(0,0,1)(1,1,1)[12]             : AIC=inf, Time=0.40 sec\n",
      " ARIMA(0,0,0)(2,1,0)[12]             : AIC=311.591, Time=0.08 sec\n",
      " ARIMA(1,0,1)(2,1,0)[12]             : AIC=299.555, Time=0.23 sec\n",
      " ARIMA(0,0,2)(2,1,0)[12]             : AIC=299.555, Time=0.15 sec\n",
      " ARIMA(1,0,0)(2,1,0)[12]             : AIC=301.599, Time=0.13 sec\n",
      " ARIMA(1,0,2)(2,1,0)[12]             : AIC=inf, Time=0.85 sec\n",
      "\n",
      "Best model:  ARIMA(0,0,1)(2,1,0)[12]          \n",
      "Total fit time: 11.642 seconds\n"
     ]
    },
    {
     "data": {
      "text/html": [
       "<table class=\"simpletable\">\n",
       "<caption>SARIMAX Results</caption>\n",
       "<tr>\n",
       "  <th>Dep. Variable:</th>                  <td>y</td>                <th>  No. Observations:  </th>    <td>80</td>   \n",
       "</tr>\n",
       "<tr>\n",
       "  <th>Model:</th>           <td>SARIMAX(0, 0, 1)x(2, 1, [], 12)</td> <th>  Log Likelihood     </th> <td>-144.777</td>\n",
       "</tr>\n",
       "<tr>\n",
       "  <th>Date:</th>                   <td>Wed, 24 Aug 2022</td>         <th>  AIC                </th>  <td>297.555</td>\n",
       "</tr>\n",
       "<tr>\n",
       "  <th>Time:</th>                       <td>16:26:47</td>             <th>  BIC                </th>  <td>306.433</td>\n",
       "</tr>\n",
       "<tr>\n",
       "  <th>Sample:</th>                         <td>0</td>                <th>  HQIC               </th>  <td>301.073</td>\n",
       "</tr>\n",
       "<tr>\n",
       "  <th></th>                              <td> - 80</td>              <th>                     </th>     <td> </td>   \n",
       "</tr>\n",
       "<tr>\n",
       "  <th>Covariance Type:</th>               <td>opg</td>               <th>                     </th>     <td> </td>   \n",
       "</tr>\n",
       "</table>\n",
       "<table class=\"simpletable\">\n",
       "<tr>\n",
       "      <td></td>        <th>coef</th>     <th>std err</th>      <th>z</th>      <th>P>|z|</th>  <th>[0.025</th>    <th>0.975]</th>  \n",
       "</tr>\n",
       "<tr>\n",
       "  <th>ma.L1</th>    <td>   -0.5211</td> <td>    0.098</td> <td>   -5.294</td> <td> 0.000</td> <td>   -0.714</td> <td>   -0.328</td>\n",
       "</tr>\n",
       "<tr>\n",
       "  <th>ar.S.L12</th> <td>   -0.6408</td> <td>    0.111</td> <td>   -5.759</td> <td> 0.000</td> <td>   -0.859</td> <td>   -0.423</td>\n",
       "</tr>\n",
       "<tr>\n",
       "  <th>ar.S.L24</th> <td>   -0.4042</td> <td>    0.132</td> <td>   -3.067</td> <td> 0.002</td> <td>   -0.663</td> <td>   -0.146</td>\n",
       "</tr>\n",
       "<tr>\n",
       "  <th>sigma2</th>   <td>    3.7115</td> <td>    0.534</td> <td>    6.951</td> <td> 0.000</td> <td>    2.665</td> <td>    4.758</td>\n",
       "</tr>\n",
       "</table>\n",
       "<table class=\"simpletable\">\n",
       "<tr>\n",
       "  <th>Ljung-Box (L1) (Q):</th>     <td>0.01</td> <th>  Jarque-Bera (JB):  </th> <td>4.96</td> \n",
       "</tr>\n",
       "<tr>\n",
       "  <th>Prob(Q):</th>                <td>0.94</td> <th>  Prob(JB):          </th> <td>0.08</td> \n",
       "</tr>\n",
       "<tr>\n",
       "  <th>Heteroskedasticity (H):</th> <td>2.07</td> <th>  Skew:              </th> <td>-0.41</td>\n",
       "</tr>\n",
       "<tr>\n",
       "  <th>Prob(H) (two-sided):</th>    <td>0.09</td> <th>  Kurtosis:          </th> <td>4.04</td> \n",
       "</tr>\n",
       "</table><br/><br/>Warnings:<br/>[1] Covariance matrix calculated using the outer product of gradients (complex-step)."
      ],
      "text/plain": [
       "<class 'statsmodels.iolib.summary.Summary'>\n",
       "\"\"\"\n",
       "                                      SARIMAX Results                                      \n",
       "===========================================================================================\n",
       "Dep. Variable:                                   y   No. Observations:                   80\n",
       "Model:             SARIMAX(0, 0, 1)x(2, 1, [], 12)   Log Likelihood                -144.777\n",
       "Date:                             Wed, 24 Aug 2022   AIC                            297.555\n",
       "Time:                                     16:26:47   BIC                            306.433\n",
       "Sample:                                          0   HQIC                           301.073\n",
       "                                              - 80                                         \n",
       "Covariance Type:                               opg                                         \n",
       "==============================================================================\n",
       "                 coef    std err          z      P>|z|      [0.025      0.975]\n",
       "------------------------------------------------------------------------------\n",
       "ma.L1         -0.5211      0.098     -5.294      0.000      -0.714      -0.328\n",
       "ar.S.L12      -0.6408      0.111     -5.759      0.000      -0.859      -0.423\n",
       "ar.S.L24      -0.4042      0.132     -3.067      0.002      -0.663      -0.146\n",
       "sigma2         3.7115      0.534      6.951      0.000       2.665       4.758\n",
       "===================================================================================\n",
       "Ljung-Box (L1) (Q):                   0.01   Jarque-Bera (JB):                 4.96\n",
       "Prob(Q):                              0.94   Prob(JB):                         0.08\n",
       "Heteroskedasticity (H):               2.07   Skew:                            -0.41\n",
       "Prob(H) (two-sided):                  0.09   Kurtosis:                         4.04\n",
       "===================================================================================\n",
       "\n",
       "Warnings:\n",
       "[1] Covariance matrix calculated using the outer product of gradients (complex-step).\n",
       "\"\"\""
      ]
     },
     "execution_count": 17,
     "metadata": {},
     "output_type": "execute_result"
    }
   ],
   "source": [
    "# Modelo ARIMA\n",
    "\n",
    "model_arima = auto_arima(ejem[0], \n",
    "                        start_p = 1, start_q = 1,\n",
    "                          max_p = 3, max_q = 3, m = 12,\n",
    "                          start_P = 0, seasonal = True,\n",
    "                          d = None, D = 1, trace = True,\n",
    "                          error_action ='ignore',  \n",
    "                          suppress_warnings = True, \n",
    "                          stepwise = True)          \n",
    "  \n",
    "model_arima.summary()"
   ]
  },
  {
   "cell_type": "code",
   "execution_count": 18,
   "id": "66b2ef66",
   "metadata": {},
   "outputs": [
    {
     "name": "stdout",
     "output_type": "stream",
     "text": [
      "RUNNING THE L-BFGS-B CODE\n",
      "\n",
      "           * * *\n",
      "\n",
      "Machine precision = 2.220D-16\n",
      " N =            4     M =           10\n",
      "\n",
      "At X0         0 variables are exactly at the bounds\n",
      "\n",
      "At iterate    0    f=  1.45320D+00    |proj g|=  9.60537D-02\n",
      "\n",
      "At iterate    5    f=  1.39362D+00    |proj g|=  1.31245D-03\n",
      "\n",
      "           * * *\n",
      "\n",
      "Tit   = total number of iterations\n",
      "Tnf   = total number of function evaluations\n",
      "Tnint = total number of segments explored during Cauchy searches\n",
      "Skip  = number of BFGS updates skipped\n",
      "Nact  = number of active bounds at final generalized Cauchy point\n",
      "Projg = norm of the final projected gradient\n",
      "F     = final function value\n",
      "\n",
      "           * * *\n",
      "\n",
      "   N    Tit     Tnf  Tnint  Skip  Nact     Projg        F\n",
      "    4      8      9      1     0     0   1.083D-05   1.394D+00\n",
      "  F =   1.3936139025721643     \n",
      "\n",
      "CONVERGENCE: REL_REDUCTION_OF_F_<=_FACTR*EPSMCH             \n"
     ]
    },
    {
     "name": "stderr",
     "output_type": "stream",
     "text": [
      "/home/jupyter-achacon/.local/lib/python3.9/site-packages/statsmodels/tsa/statespace/sarimax.py:997: UserWarning: Non-stationary starting seasonal autoregressive Using zeros as starting parameters.\n",
      "  warn('Non-stationary starting seasonal autoregressive'\n",
      " This problem is unconstrained.\n"
     ]
    },
    {
     "data": {
      "text/html": [
       "<table class=\"simpletable\">\n",
       "<caption>SARIMAX Results</caption>\n",
       "<tr>\n",
       "  <th>Dep. Variable:</th>                  <td>y</td>                <th>  No. Observations:  </th>   <td>44</td>   \n",
       "</tr>\n",
       "<tr>\n",
       "  <th>Model:</th>           <td>SARIMAX(0, 0, 1)x(2, 1, [], 12)</td> <th>  Log Likelihood     </th> <td>-61.319</td>\n",
       "</tr>\n",
       "<tr>\n",
       "  <th>Date:</th>                   <td>Wed, 24 Aug 2022</td>         <th>  AIC                </th> <td>130.638</td>\n",
       "</tr>\n",
       "<tr>\n",
       "  <th>Time:</th>                       <td>16:26:48</td>             <th>  BIC                </th> <td>136.501</td>\n",
       "</tr>\n",
       "<tr>\n",
       "  <th>Sample:</th>                         <td>0</td>                <th>  HQIC               </th> <td>132.581</td>\n",
       "</tr>\n",
       "<tr>\n",
       "  <th></th>                              <td> - 44</td>              <th>                     </th>    <td> </td>   \n",
       "</tr>\n",
       "<tr>\n",
       "  <th>Covariance Type:</th>               <td>opg</td>               <th>                     </th>    <td> </td>   \n",
       "</tr>\n",
       "</table>\n",
       "<table class=\"simpletable\">\n",
       "<tr>\n",
       "      <td></td>        <th>coef</th>     <th>std err</th>      <th>z</th>      <th>P>|z|</th>  <th>[0.025</th>    <th>0.975]</th>  \n",
       "</tr>\n",
       "<tr>\n",
       "  <th>ma.L1</th>    <td>   -0.7010</td> <td>    0.146</td> <td>   -4.815</td> <td> 0.000</td> <td>   -0.986</td> <td>   -0.416</td>\n",
       "</tr>\n",
       "<tr>\n",
       "  <th>ar.S.L12</th> <td>   -0.6181</td> <td>    0.369</td> <td>   -1.675</td> <td> 0.094</td> <td>   -1.341</td> <td>    0.105</td>\n",
       "</tr>\n",
       "<tr>\n",
       "  <th>ar.S.L24</th> <td>   -0.5070</td> <td>    0.352</td> <td>   -1.441</td> <td> 0.150</td> <td>   -1.197</td> <td>    0.183</td>\n",
       "</tr>\n",
       "<tr>\n",
       "  <th>sigma2</th>   <td>    1.9758</td> <td>    0.880</td> <td>    2.244</td> <td> 0.025</td> <td>    0.250</td> <td>    3.701</td>\n",
       "</tr>\n",
       "</table>\n",
       "<table class=\"simpletable\">\n",
       "<tr>\n",
       "  <th>Ljung-Box (L1) (Q):</th>     <td>0.19</td> <th>  Jarque-Bera (JB):  </th> <td>3.32</td>\n",
       "</tr>\n",
       "<tr>\n",
       "  <th>Prob(Q):</th>                <td>0.66</td> <th>  Prob(JB):          </th> <td>0.19</td>\n",
       "</tr>\n",
       "<tr>\n",
       "  <th>Heteroskedasticity (H):</th> <td>4.59</td> <th>  Skew:              </th> <td>0.75</td>\n",
       "</tr>\n",
       "<tr>\n",
       "  <th>Prob(H) (two-sided):</th>    <td>0.02</td> <th>  Kurtosis:          </th> <td>3.49</td>\n",
       "</tr>\n",
       "</table><br/><br/>Warnings:<br/>[1] Covariance matrix calculated using the outer product of gradients (complex-step)."
      ],
      "text/plain": [
       "<class 'statsmodels.iolib.summary.Summary'>\n",
       "\"\"\"\n",
       "                                      SARIMAX Results                                      \n",
       "===========================================================================================\n",
       "Dep. Variable:                                   y   No. Observations:                   44\n",
       "Model:             SARIMAX(0, 0, 1)x(2, 1, [], 12)   Log Likelihood                 -61.319\n",
       "Date:                             Wed, 24 Aug 2022   AIC                            130.638\n",
       "Time:                                     16:26:48   BIC                            136.501\n",
       "Sample:                                          0   HQIC                           132.581\n",
       "                                              - 44                                         \n",
       "Covariance Type:                               opg                                         \n",
       "==============================================================================\n",
       "                 coef    std err          z      P>|z|      [0.025      0.975]\n",
       "------------------------------------------------------------------------------\n",
       "ma.L1         -0.7010      0.146     -4.815      0.000      -0.986      -0.416\n",
       "ar.S.L12      -0.6181      0.369     -1.675      0.094      -1.341       0.105\n",
       "ar.S.L24      -0.5070      0.352     -1.441      0.150      -1.197       0.183\n",
       "sigma2         1.9758      0.880      2.244      0.025       0.250       3.701\n",
       "===================================================================================\n",
       "Ljung-Box (L1) (Q):                   0.19   Jarque-Bera (JB):                 3.32\n",
       "Prob(Q):                              0.66   Prob(JB):                         0.19\n",
       "Heteroskedasticity (H):               4.59   Skew:                             0.75\n",
       "Prob(H) (two-sided):                  0.02   Kurtosis:                         3.49\n",
       "===================================================================================\n",
       "\n",
       "Warnings:\n",
       "[1] Covariance matrix calculated using the outer product of gradients (complex-step).\n",
       "\"\"\""
      ]
     },
     "execution_count": 18,
     "metadata": {},
     "output_type": "execute_result"
    }
   ],
   "source": [
    "steps = 36\n",
    "datos_train = ejem[:-steps]\n",
    "datos_test  = ejem[-steps:]\n",
    "\n",
    "model = SARIMAX(datos_train[0],\n",
    "                order = (0, 0, 1), \n",
    "                seasonal_order =(2, 1, 0, 12))\n",
    "\n",
    "result = model.fit()\n",
    "result.summary()"
   ]
  },
  {
   "cell_type": "code",
   "execution_count": 19,
   "id": "76502a8e",
   "metadata": {},
   "outputs": [
    {
     "data": {
      "text/plain": [
       "<AxesSubplot:>"
      ]
     },
     "execution_count": 19,
     "metadata": {},
     "output_type": "execute_result"
    },
    {
     "data": {
      "image/png": "[encoded data removed]",
      "text/plain": [
       "<Figure size 432x288 with 1 Axes>"
      ]
     },
     "metadata": {
      "needs_background": "light"
     },
     "output_type": "display_data"
    }
   ],
   "source": [
    "start = len(datos_train)\n",
    "end = len(datos_train) + len(datos_test) - 1\n",
    "  \n",
    "predictions = result.predict(start, end,\n",
    "                             typ = 'levels').rename(\"Predictions\")\n",
    "  \n",
    "predictions.plot(legend = True)\n",
    "datos_test[0].plot(legend = True)"
   ]
  },
  {
   "cell_type": "code",
   "execution_count": 20,
   "id": "42790ea2",
   "metadata": {},
   "outputs": [
    {
     "data": {
      "text/plain": [
       "5.728059130358735"
      ]
     },
     "execution_count": 20,
     "metadata": {},
     "output_type": "execute_result"
    }
   ],
   "source": [
    "mean_squared_error(datos_test[0], predictions)"
   ]
  },
  {
   "cell_type": "code",
   "execution_count": 21,
   "id": "1a1e70b4",
   "metadata": {},
   "outputs": [
    {
     "name": "stdout",
     "output_type": "stream",
     "text": [
      "RUNNING THE L-BFGS-B CODE\n",
      "\n",
      "           * * *\n",
      "\n",
      "Machine precision = 2.220D-16\n",
      " N =            4     M =           10\n",
      "\n",
      "At X0         0 variables are exactly at the bounds\n",
      "\n",
      "At iterate    0    f=  1.88711D+00    |proj g|=  1.48565D-01\n",
      "\n",
      "At iterate    5    f=  1.80972D+00    |proj g|=  3.98441D-04\n",
      "\n",
      "           * * *\n",
      "\n",
      "Tit   = total number of iterations\n",
      "Tnf   = total number of function evaluations\n",
      "Tnint = total number of segments explored during Cauchy searches\n",
      "Skip  = number of BFGS updates skipped\n",
      "Nact  = number of active bounds at final generalized Cauchy point\n",
      "Projg = norm of the final projected gradient\n",
      "F     = final function value\n",
      "\n",
      "           * * *\n",
      "\n",
      "   N    Tit     Tnf  Tnint  Skip  Nact     Projg        F\n",
      "    4      8     12      1     0     0   5.233D-06   1.810D+00\n",
      "  F =   1.8097182899869018     \n",
      "\n",
      "CONVERGENCE: NORM_OF_PROJECTED_GRADIENT_<=_PGTOL            \n"
     ]
    },
    {
     "name": "stderr",
     "output_type": "stream",
     "text": [
      " This problem is unconstrained.\n"
     ]
    },
    {
     "data": {
      "text/plain": [
       "<AxesSubplot:>"
      ]
     },
     "execution_count": 21,
     "metadata": {},
     "output_type": "execute_result"
    },
    {
     "data": {
      "image/png": "[encoded data removed]",
      "text/plain": [
       "<Figure size 864x360 with 1 Axes>"
      ]
     },
     "metadata": {
      "needs_background": "light"
     },
     "output_type": "display_data"
    }
   ],
   "source": [
    "model = model = SARIMAX(ejem[0], \n",
    "                        order = (0, 0, 1), \n",
    "                        seasonal_order =(2, 1, 0, 12))\n",
    "result = model.fit()\n",
    "  \n",
    "forecast = result.predict(start = len(ejem), \n",
    "                          end = (len(ejem)-1) + 3 * 12, \n",
    "                          typ = 'levels').rename('Forecast')\n",
    "  \n",
    "ejem[0].plot(figsize = (12, 5), legend = True)\n",
    "forecast.plot(legend = True)"
   ]
  },
  {
   "cell_type": "code",
   "execution_count": 22,
   "id": "da0c0781",
   "metadata": {},
   "outputs": [
    {
     "data": {
      "text/plain": [
       "5.728059130358735"
      ]
     },
     "execution_count": 22,
     "metadata": {},
     "output_type": "execute_result"
    }
   ],
   "source": [
    "mean_squared_error(datos_test[0], predictions)"
   ]
  },
  {
   "cell_type": "code",
   "execution_count": 23,
   "id": "1c201ebf",
   "metadata": {},
   "outputs": [
    {
     "data": {
      "text/plain": [
       "[<matplotlib.lines.Line2D at 0x7f32ea83af10>]"
      ]
     },
     "execution_count": 23,
     "metadata": {},
     "output_type": "execute_result"
    },
    {
     "data": {
      "image/png": "[encoded data removed]",
      "text/plain": [
       "<Figure size 432x288 with 1 Axes>"
      ]
     },
     "metadata": {
      "needs_background": "light"
     },
     "output_type": "display_data"
    }
   ],
   "source": [
    "datos_test = abasolo_h_hd_af[-steps:]\n",
    "plt.plot(datos_test)"
   ]
  },
  {
   "cell_type": "code",
   "execution_count": 24,
   "id": "23f70c92",
   "metadata": {},
   "outputs": [],
   "source": [
    "datos_test_n = np.array((datos_test))"
   ]
  },
  {
   "cell_type": "code",
   "execution_count": 25,
   "id": "c13cde30",
   "metadata": {},
   "outputs": [
    {
     "data": {
      "text/plain": [
       "<AxesSubplot:>"
      ]
     },
     "execution_count": 25,
     "metadata": {},
     "output_type": "execute_result"
    },
    {
     "data": {
      "image/png": "[encoded data removed]",
      "text/plain": [
       "<Figure size 432x288 with 1 Axes>"
      ]
     },
     "metadata": {
      "needs_background": "light"
     },
     "output_type": "display_data"
    }
   ],
   "source": [
    "forecast.plot()"
   ]
  },
  {
   "cell_type": "code",
   "execution_count": 26,
   "id": "60f5a529",
   "metadata": {},
   "outputs": [],
   "source": [
    "forecast_n = np.array(forecast)"
   ]
  },
  {
   "cell_type": "code",
   "execution_count": 27,
   "id": "c3f1ad0e",
   "metadata": {},
   "outputs": [],
   "source": [
    "reales = datos_test_n + forecast_n"
   ]
  },
  {
   "cell_type": "code",
   "execution_count": 28,
   "id": "01053b29",
   "metadata": {},
   "outputs": [
    {
     "data": {
      "text/plain": [
       "[<matplotlib.lines.Line2D at 0x7f32ea6ebd00>]"
      ]
     },
     "execution_count": 28,
     "metadata": {},
     "output_type": "execute_result"
    },
    {
     "data": {
      "image/png": "[encoded data removed]",
      "text/plain": [
       "<Figure size 432x288 with 1 Axes>"
      ]
     },
     "metadata": {
      "needs_background": "light"
     },
     "output_type": "display_data"
    }
   ],
   "source": [
    "plt.plot(reales)"
   ]
  },
  {
   "cell_type": "code",
   "execution_count": 29,
   "id": "969bb1bd",
   "metadata": {},
   "outputs": [
    {
     "data": {
      "text/plain": [
       "<matplotlib.legend.Legend at 0x7f32ea6c9d30>"
      ]
     },
     "execution_count": 29,
     "metadata": {},
     "output_type": "execute_result"
    },
    {
     "data": {
      "image/png": "[encoded data removed]",
      "text/plain": [
       "<Figure size 432x288 with 1 Axes>"
      ]
     },
     "metadata": {
      "needs_background": "light"
     },
     "output_type": "display_data"
    }
   ],
   "source": [
    "plt.plot(reales)\n",
    "plt.plot(datos_test_n)\n",
    "plt.legend([\"Datos entrenamiento\", \"Datos reales\"], loc =\"upper right\")"
   ]
  },
  {
   "cell_type": "markdown",
   "id": "2941c559",
   "metadata": {},
   "source": [
    "## Red neuronal"
   ]
  },
  {
   "cell_type": "code",
   "execution_count": 30,
   "id": "0b2048bd",
   "metadata": {},
   "outputs": [
    {
     "name": "stderr",
     "output_type": "stream",
     "text": [
      "2022-08-24 16:26:49.545641: I tensorflow/core/util/util.cc:169] oneDNN custom operations are on. You may see slightly different numerical results due to floating-point round-off errors from different computation orders. To turn them off, set the environment variable `TF_ENABLE_ONEDNN_OPTS=0`.\n",
      "2022-08-24 16:26:49.549980: W tensorflow/stream_executor/platform/default/dso_loader.cc:64] Could not load dynamic library 'libcudart.so.11.0'; dlerror: libcudart.so.11.0: cannot open shared object file: No such file or directory\n",
      "2022-08-24 16:26:49.549993: I tensorflow/stream_executor/cuda/cudart_stub.cc:29] Ignore above cudart dlerror if you do not have a GPU set up on your machine.\n"
     ]
    }
   ],
   "source": [
    "# univariate mlp example\n",
    "from numpy import array\n",
    "from keras.models import Sequential\n",
    "from keras.layers import Dense"
   ]
  },
  {
   "cell_type": "code",
   "execution_count": 31,
   "id": "e68478f8",
   "metadata": {},
   "outputs": [],
   "source": [
    "# Dividir serie\n",
    "def dividir_serie(serie, n_pasos):\n",
    "    X, y = list(), list()\n",
    "    for i in range(len(serie)):\n",
    "        fin_ix = i + n_pasos\n",
    "\n",
    "        if fin_ix > len(serie)-1:\n",
    "            break\n",
    "        # entrada y salida\n",
    "        ser_x, ser_y = serie[i:fin_ix], serie[fin_ix]\n",
    "        X.append(ser_x)\n",
    "        y.append(ser_y)\n",
    "    \n",
    "    return array(X), array(y)"
   ]
  },
  {
   "cell_type": "code",
   "execution_count": 32,
   "id": "dcf5c0ce",
   "metadata": {},
   "outputs": [
    {
     "data": {
      "text/plain": [
       "(array([[ 0.,  1., -1.,  1., -1.,  1.],\n",
       "        [ 1., -1.,  1., -1.,  1.,  2.],\n",
       "        [-1.,  1., -1.,  1.,  2., -2.],\n",
       "        [ 1., -1.,  1.,  2., -2.,  1.],\n",
       "        [-1.,  1.,  2., -2.,  1., -2.],\n",
       "        [ 1.,  2., -2.,  1., -2.,  0.],\n",
       "        [ 2., -2.,  1., -2.,  0.,  0.],\n",
       "        [-2.,  1., -2.,  0.,  0.,  1.],\n",
       "        [ 1., -2.,  0.,  0.,  1.,  0.],\n",
       "        [-2.,  0.,  0.,  1.,  0., -1.],\n",
       "        [ 0.,  0.,  1.,  0., -1.,  1.],\n",
       "        [ 0.,  1.,  0., -1.,  1.,  1.],\n",
       "        [ 1.,  0., -1.,  1.,  1., -1.],\n",
       "        [ 0., -1.,  1.,  1., -1.,  0.],\n",
       "        [-1.,  1.,  1., -1.,  0., -1.],\n",
       "        [ 1.,  1., -1.,  0., -1.,  0.],\n",
       "        [ 1., -1.,  0., -1.,  0.,  0.],\n",
       "        [-1.,  0., -1.,  0.,  0.,  0.],\n",
       "        [ 0., -1.,  0.,  0.,  0.,  0.],\n",
       "        [-1.,  0.,  0.,  0.,  0.,  0.],\n",
       "        [ 0.,  0.,  0.,  0.,  0.,  2.],\n",
       "        [ 0.,  0.,  0.,  0.,  2.,  0.],\n",
       "        [ 0.,  0.,  0.,  2.,  0., -2.],\n",
       "        [ 0.,  0.,  2.,  0., -2.,  0.],\n",
       "        [ 0.,  2.,  0., -2.,  0.,  1.],\n",
       "        [ 2.,  0., -2.,  0.,  1., -1.],\n",
       "        [ 0., -2.,  0.,  1., -1.,  0.],\n",
       "        [-2.,  0.,  1., -1.,  0.,  1.],\n",
       "        [ 0.,  1., -1.,  0.,  1., -1.],\n",
       "        [ 1., -1.,  0.,  1., -1.,  4.],\n",
       "        [-1.,  0.,  1., -1.,  4., -1.],\n",
       "        [ 0.,  1., -1.,  4., -1., -3.],\n",
       "        [ 1., -1.,  4., -1., -3.,  4.],\n",
       "        [-1.,  4., -1., -3.,  4., -2.],\n",
       "        [ 4., -1., -3.,  4., -2.,  4.],\n",
       "        [-1., -3.,  4., -2.,  4., -3.],\n",
       "        [-3.,  4., -2.,  4., -3.,  0.],\n",
       "        [ 4., -2.,  4., -3.,  0.,  3.],\n",
       "        [-2.,  4., -3.,  0.,  3., -4.],\n",
       "        [ 4., -3.,  0.,  3., -4.,  4.],\n",
       "        [-3.,  0.,  3., -4.,  4., -2.],\n",
       "        [ 0.,  3., -4.,  4., -2.,  3.],\n",
       "        [ 3., -4.,  4., -2.,  3.,  0.],\n",
       "        [-4.,  4., -2.,  3.,  0.,  2.],\n",
       "        [ 4., -2.,  3.,  0.,  2., -2.],\n",
       "        [-2.,  3.,  0.,  2., -2.,  3.],\n",
       "        [ 3.,  0.,  2., -2.,  3., -1.],\n",
       "        [ 0.,  2., -2.,  3., -1., -7.],\n",
       "        [ 2., -2.,  3., -1., -7., -1.],\n",
       "        [-2.,  3., -1., -7., -1.,  3.],\n",
       "        [ 3., -1., -7., -1.,  3., -3.],\n",
       "        [-1., -7., -1.,  3., -3.,  3.],\n",
       "        [-7., -1.,  3., -3.,  3., -1.],\n",
       "        [-1.,  3., -3.,  3., -1., -1.],\n",
       "        [ 3., -3.,  3., -1., -1., -1.],\n",
       "        [-3.,  3., -1., -1., -1.,  1.],\n",
       "        [ 3., -1., -1., -1.,  1.,  0.],\n",
       "        [-1., -1., -1.,  1.,  0., -1.],\n",
       "        [-1., -1.,  1.,  0., -1.,  0.],\n",
       "        [-1.,  1.,  0., -1.,  0.,  1.],\n",
       "        [ 1.,  0., -1.,  0.,  1.,  0.],\n",
       "        [ 0., -1.,  0.,  1.,  0., -2.],\n",
       "        [-1.,  0.,  1.,  0., -2.,  1.],\n",
       "        [ 0.,  1.,  0., -2.,  1.,  0.],\n",
       "        [ 1.,  0., -2.,  1.,  0.,  0.],\n",
       "        [ 0., -2.,  1.,  0.,  0.,  0.],\n",
       "        [-2.,  1.,  0.,  0.,  0.,  3.],\n",
       "        [ 1.,  0.,  0.,  0.,  3., -2.],\n",
       "        [ 0.,  0.,  0.,  3., -2., -2.],\n",
       "        [ 0.,  0.,  3., -2., -2.,  2.],\n",
       "        [ 0.,  3., -2., -2.,  2., -1.],\n",
       "        [ 3., -2., -2.,  2., -1.,  0.],\n",
       "        [-2., -2.,  2., -1.,  0., -1.],\n",
       "        [-2.,  2., -1.,  0., -1.,  1.]]),\n",
       " array([ 2., -2.,  1., -2.,  0.,  0.,  1.,  0., -1.,  1.,  1., -1.,  0.,\n",
       "        -1.,  0.,  0.,  0.,  0.,  0.,  2.,  0., -2.,  0.,  1., -1.,  0.,\n",
       "         1., -1.,  4., -1., -3.,  4., -2.,  4., -3.,  0.,  3., -4.,  4.,\n",
       "        -2.,  3.,  0.,  2., -2.,  3., -1., -7., -1.,  3., -3.,  3., -1.,\n",
       "        -1., -1.,  1.,  0., -1.,  0.,  1.,  0., -2.,  1.,  0.,  0.,  0.,\n",
       "         3., -2., -2.,  2., -1.,  0., -1.,  1., -1.]))"
      ]
     },
     "execution_count": 32,
     "metadata": {},
     "output_type": "execute_result"
    }
   ],
   "source": [
    "dividir_serie(d_series, 6)"
   ]
  },
  {
   "cell_type": "code",
   "execution_count": 33,
   "id": "9027347a",
   "metadata": {},
   "outputs": [
    {
     "data": {
      "text/plain": [
       "0     0.0\n",
       "1     1.0\n",
       "2    -1.0\n",
       "3     1.0\n",
       "4    -1.0\n",
       "     ... \n",
       "75   -1.0\n",
       "76    0.0\n",
       "77   -1.0\n",
       "78    1.0\n",
       "79   -1.0\n",
       "Length: 80, dtype: float64"
      ]
     },
     "execution_count": 33,
     "metadata": {},
     "output_type": "execute_result"
    }
   ],
   "source": [
    "d_series"
   ]
  },
  {
   "cell_type": "code",
   "execution_count": 34,
   "id": "2b9b73d8",
   "metadata": {},
   "outputs": [
    {
     "data": {
      "text/plain": [
       "74    2.0\n",
       "75   -1.0\n",
       "76    0.0\n",
       "77   -1.0\n",
       "78    1.0\n",
       "79   -1.0\n",
       "dtype: float64"
      ]
     },
     "execution_count": 34,
     "metadata": {},
     "output_type": "execute_result"
    }
   ],
   "source": [
    "d_series.tail(6)"
   ]
  },
  {
   "cell_type": "code",
   "execution_count": 35,
   "id": "bffee7d6",
   "metadata": {},
   "outputs": [
    {
     "data": {
      "text/plain": [
       "74    0.0\n",
       "75    2.0\n",
       "76    1.0\n",
       "77    1.0\n",
       "78    0.0\n",
       "79    1.0\n",
       "80    0.0\n",
       "Name: ('Abasolo_Homicidio_Homicidio doloso_Con arma de fuego',), dtype: float64"
      ]
     },
     "execution_count": 35,
     "metadata": {},
     "output_type": "execute_result"
    }
   ],
   "source": [
    "abasolo_h_hd_af.tail(7)"
   ]
  },
  {
   "cell_type": "code",
   "execution_count": 66,
   "id": "c8b4ec02",
   "metadata": {},
   "outputs": [],
   "source": [
    "def red_neuronal(serie, cant_div, n_pasos, activa):\n",
    "    # Serie de tiempo\n",
    "    serie_aPred = serie\n",
    "\n",
    "    # Dividir serie\n",
    "    X, y = dividir_serie(serie_aPred, n_pasos)\n",
    "\n",
    "    X_train = X[:cant_div]\n",
    "    y_train = y[:cant_div]\n",
    "    X_test = X[cant_div:]\n",
    "    y_test = y[cant_div:]\n",
    "    y_test_navie = y[cant_div-1:-1]\n",
    "\n",
    "    # Definir modelo\n",
    "    model = Sequential()\n",
    "    model.add(Dense(10, activation=activa, input_dim=n_pasos))\n",
    "    model.add(Dense(10, activation=activa, input_dim=10))\n",
    "    model.add(Dense(10, activation=activa, input_dim=10))\n",
    "    model.add(Dense(10, activation=activa, input_dim=10))\n",
    "    model.add(Dense(1, activation=activa, input_dim=10))\n",
    "    model.compile(optimizer='adam', loss='mse')\n",
    "\n",
    "    # Entrenar modelo\n",
    "    model.fit(X_train, y_train, epochs=2000, verbose=0)\n",
    "    \n",
    "    # Mostrar predicciones\n",
    "    x_input = array([[0, 2, 1, 1, 0, 1]])\n",
    "    #x_input = x_input.reshape((1, n_pasos))\n",
    "    yhat = model.predict(X_test, verbose=0)\n",
    "\n",
    "    print(\"El siguiente mes tendra: \", yhat)\n",
    "    \n",
    "    plt.plot(yhat)\n",
    "    plt.plot(y_test)\n",
    "    plt.legend([\"Datos entrenamiento\", \"Datos reales\"], loc =\"upper right\")\n",
    "    \n",
    "    #error\n",
    "    error = np.average(np.abs(yhat-y_test))\n",
    "    print(\"El error es de: \", error)"
   ]
  },
  {
   "cell_type": "code",
   "execution_count": 37,
   "id": "bd4146d3",
   "metadata": {},
   "outputs": [
    {
     "name": "stderr",
     "output_type": "stream",
     "text": [
      "2022-08-24 16:26:51.473861: W tensorflow/stream_executor/platform/default/dso_loader.cc:64] Could not load dynamic library 'libcuda.so.1'; dlerror: libcuda.so.1: cannot open shared object file: No such file or directory\n",
      "2022-08-24 16:26:51.473907: W tensorflow/stream_executor/cuda/cuda_driver.cc:269] failed call to cuInit: UNKNOWN ERROR (303)\n",
      "2022-08-24 16:26:51.473931: I tensorflow/stream_executor/cuda/cuda_diagnostics.cc:156] kernel driver does not appear to be running on this host (cgeoqro): /proc/driver/nvidia/version does not exist\n",
      "2022-08-24 16:26:51.474312: I tensorflow/core/platform/cpu_feature_guard.cc:193] This TensorFlow binary is optimized with oneAPI Deep Neural Network Library (oneDNN) to use the following CPU instructions in performance-critical operations:  AVX2 AVX512F AVX512_VNNI FMA\n",
      "To enable them in other operations, rebuild TensorFlow with the appropriate compiler flags.\n"
     ]
    },
    {
     "name": "stdout",
     "output_type": "stream",
     "text": [
      "El siguiente mes tendra:  [[2.349799  ]\n",
      " [0.        ]\n",
      " [0.30789205]\n",
      " [1.6754768 ]\n",
      " [2.2439063 ]\n",
      " [0.        ]\n",
      " [0.01042577]\n",
      " [0.7840639 ]\n",
      " [2.7809212 ]\n",
      " [1.1828434 ]\n",
      " [0.9759934 ]\n",
      " [2.5592763 ]]\n",
      "El error es de:  1.1667965156957507\n"
     ]
    },
    {
     "data": {
      "image/png": "[encoded data removed]",
      "text/plain": [
       "<Figure size 432x288 with 1 Axes>"
      ]
     },
     "metadata": {
      "needs_background": "light"
     },
     "output_type": "display_data"
    }
   ],
   "source": [
    "red_neuronal(abasolo_h_hd_af, 63, 6, 'relu')"
   ]
  },
  {
   "cell_type": "code",
   "execution_count": 38,
   "id": "dab6e1a8",
   "metadata": {},
   "outputs": [
    {
     "name": "stdout",
     "output_type": "stream",
     "text": [
      "El siguiente mes tendra:  [[0.9995022 ]\n",
      " [0.9995022 ]\n",
      " [0.99950206]\n",
      " [0.99950165]\n",
      " [0.9995026 ]\n",
      " [0.9995025 ]\n",
      " [0.99950194]\n",
      " [0.99950254]\n",
      " [0.99950254]\n",
      " [0.99950206]\n",
      " [0.9995012 ]\n",
      " [0.9995022 ]]\n",
      "El error es de:  0.6669155980149905\n"
     ]
    },
    {
     "data": {
      "image/png": "[encoded data removed]",
      "text/plain": [
       "<Figure size 432x288 with 1 Axes>"
      ]
     },
     "metadata": {
      "needs_background": "light"
     },
     "output_type": "display_data"
    }
   ],
   "source": [
    "red_neuronal(abasolo_h_hd_af, 63, 6, 'sigmoid')"
   ]
  },
  {
   "cell_type": "code",
   "execution_count": 39,
   "id": "178a620f",
   "metadata": {},
   "outputs": [
    {
     "name": "stdout",
     "output_type": "stream",
     "text": [
      "El siguiente mes tendra:  [[0.01424005]\n",
      " [0.00213562]\n",
      " [0.04459481]\n",
      " [0.00201189]\n",
      " [0.9871041 ]\n",
      " [0.99819386]\n",
      " [0.00202666]\n",
      " [0.9965634 ]\n",
      " [0.00207208]\n",
      " [0.9981532 ]\n",
      " [0.00219532]]\n",
      "El error es de:  1.3491442564486196\n"
     ]
    },
    {
     "data": {
      "image/png": "[encoded data removed]",
      "text/plain": [
       "<Figure size 432x288 with 1 Axes>"
      ]
     },
     "metadata": {
      "needs_background": "light"
     },
     "output_type": "display_data"
    }
   ],
   "source": [
    "red_neuronal(d_series, 63, 6, 'sigmoid')"
   ]
  },
  {
   "cell_type": "code",
   "execution_count": 40,
   "id": "6797a186",
   "metadata": {},
   "outputs": [
    {
     "name": "stdout",
     "output_type": "stream",
     "text": [
      "El siguiente mes tendra:  [[0.61830306]\n",
      " [0.        ]\n",
      " [1.1541039 ]\n",
      " [0.        ]\n",
      " [1.3812189 ]\n",
      " [0.        ]\n",
      " [0.        ]\n",
      " [3.4786644 ]\n",
      " [0.        ]\n",
      " [2.3230262 ]\n",
      " [0.        ]]\n",
      "El error es de:  1.661250568618459\n"
     ]
    },
    {
     "data": {
      "image/png": "[encoded data removed]",
      "text/plain": [
       "<Figure size 432x288 with 1 Axes>"
      ]
     },
     "metadata": {
      "needs_background": "light"
     },
     "output_type": "display_data"
    }
   ],
   "source": [
    "red_neuronal(d_series, 63, 6, 'relu')"
   ]
  },
  {
   "cell_type": "markdown",
   "id": "b2043a17",
   "metadata": {},
   "source": [
    "### Ejemplo con todos los delitos de Abasolo"
   ]
  },
  {
   "cell_type": "code",
   "execution_count": 3,
   "id": "21a8d3a3",
   "metadata": {},
   "outputs": [
    {
     "data": {
      "text/html": [
       "<div>\n",
       "<style scoped>\n",
       "    .dataframe tbody tr th:only-of-type {\n",
       "        vertical-align: middle;\n",
       "    }\n",
       "\n",
       "    .dataframe tbody tr th {\n",
       "        vertical-align: top;\n",
       "    }\n",
       "\n",
       "    .dataframe thead th {\n",
       "        text-align: right;\n",
       "    }\n",
       "</style>\n",
       "<table border=\"1\" class=\"dataframe\">\n",
       "  <thead>\n",
       "    <tr style=\"text-align: right;\">\n",
       "      <th></th>\n",
       "      <th>('Abasolo_Homicidio_Homicidio doloso_Con arma de fuego',)</th>\n",
       "      <th>('Abasolo_Homicidio_Homicidio doloso_Con arma blanca',)</th>\n",
       "      <th>('Abasolo_Homicidio_Homicidio doloso_Con otro elemento',)</th>\n",
       "      <th>('Abasolo_Homicidio_Homicidio doloso_No especificado',)</th>\n",
       "      <th>('Abasolo_Homicidio_Homicidio culposo_Con arma de fuego',)</th>\n",
       "      <th>('Abasolo_Homicidio_Homicidio culposo_Con arma blanca',)</th>\n",
       "      <th>('Abasolo_Homicidio_Homicidio culposo_En accidente de tránsito',)</th>\n",
       "      <th>('Abasolo_Homicidio_Homicidio culposo_Con otro elemento',)</th>\n",
       "      <th>('Abasolo_Homicidio_Homicidio culposo_No especificado',)</th>\n",
       "      <th>('Abasolo_Lesiones_Lesiones dolosas_Con arma de fuego',)</th>\n",
       "      <th>...</th>\n",
       "      <th>('Abasolo_Narcomenudeo_Narcomenudeo_Narcomenudeo',)</th>\n",
       "      <th>('Abasolo_Amenazas_Amenazas_Amenazas',)</th>\n",
       "      <th>('Abasolo_Allanamiento de morada_Allanamiento de morada_Allanamiento de morada',)</th>\n",
       "      <th>('Abasolo_Evasión de presos_Evasión de presos_Evasión de presos',)</th>\n",
       "      <th>('Abasolo_Falsedad_Falsedad_Falsedad',)</th>\n",
       "      <th>('Abasolo_Falsificación_Falsificación_Falsificación',)</th>\n",
       "      <th>('Abasolo_Contra el medio ambiente_Contra el medio ambiente_Contra el medio ambiente',)</th>\n",
       "      <th>('Abasolo_Delitos cometidos por servidores públicos_Delitos cometidos por servidores públicos_Delitos cometidos por servidores públicos',)</th>\n",
       "      <th>('Abasolo_Electorales_Electorales_Electorales',)</th>\n",
       "      <th>('Abasolo_Otros delitos del Fuero Común_Otros delitos del Fuero Común_Otros delitos del Fuero Común',)</th>\n",
       "    </tr>\n",
       "  </thead>\n",
       "  <tbody>\n",
       "    <tr>\n",
       "      <th>0</th>\n",
       "      <td>0.0</td>\n",
       "      <td>0.0</td>\n",
       "      <td>0.0</td>\n",
       "      <td>0.0</td>\n",
       "      <td>0.0</td>\n",
       "      <td>0.0</td>\n",
       "      <td>1.0</td>\n",
       "      <td>2.0</td>\n",
       "      <td>0.0</td>\n",
       "      <td>0.0</td>\n",
       "      <td>...</td>\n",
       "      <td>4.0</td>\n",
       "      <td>1.0</td>\n",
       "      <td>0.0</td>\n",
       "      <td>0.0</td>\n",
       "      <td>0.0</td>\n",
       "      <td>0.0</td>\n",
       "      <td>0.0</td>\n",
       "      <td>0.0</td>\n",
       "      <td>0.0</td>\n",
       "      <td>7.0</td>\n",
       "    </tr>\n",
       "    <tr>\n",
       "      <th>1</th>\n",
       "      <td>0.0</td>\n",
       "      <td>0.0</td>\n",
       "      <td>0.0</td>\n",
       "      <td>0.0</td>\n",
       "      <td>0.0</td>\n",
       "      <td>0.0</td>\n",
       "      <td>1.0</td>\n",
       "      <td>1.0</td>\n",
       "      <td>0.0</td>\n",
       "      <td>3.0</td>\n",
       "      <td>...</td>\n",
       "      <td>2.0</td>\n",
       "      <td>3.0</td>\n",
       "      <td>0.0</td>\n",
       "      <td>0.0</td>\n",
       "      <td>0.0</td>\n",
       "      <td>1.0</td>\n",
       "      <td>0.0</td>\n",
       "      <td>0.0</td>\n",
       "      <td>0.0</td>\n",
       "      <td>13.0</td>\n",
       "    </tr>\n",
       "    <tr>\n",
       "      <th>2</th>\n",
       "      <td>1.0</td>\n",
       "      <td>0.0</td>\n",
       "      <td>0.0</td>\n",
       "      <td>0.0</td>\n",
       "      <td>0.0</td>\n",
       "      <td>0.0</td>\n",
       "      <td>1.0</td>\n",
       "      <td>1.0</td>\n",
       "      <td>0.0</td>\n",
       "      <td>0.0</td>\n",
       "      <td>...</td>\n",
       "      <td>1.0</td>\n",
       "      <td>9.0</td>\n",
       "      <td>0.0</td>\n",
       "      <td>0.0</td>\n",
       "      <td>0.0</td>\n",
       "      <td>0.0</td>\n",
       "      <td>0.0</td>\n",
       "      <td>0.0</td>\n",
       "      <td>0.0</td>\n",
       "      <td>17.0</td>\n",
       "    </tr>\n",
       "    <tr>\n",
       "      <th>3</th>\n",
       "      <td>0.0</td>\n",
       "      <td>0.0</td>\n",
       "      <td>0.0</td>\n",
       "      <td>0.0</td>\n",
       "      <td>0.0</td>\n",
       "      <td>0.0</td>\n",
       "      <td>1.0</td>\n",
       "      <td>2.0</td>\n",
       "      <td>0.0</td>\n",
       "      <td>2.0</td>\n",
       "      <td>...</td>\n",
       "      <td>2.0</td>\n",
       "      <td>6.0</td>\n",
       "      <td>0.0</td>\n",
       "      <td>0.0</td>\n",
       "      <td>0.0</td>\n",
       "      <td>1.0</td>\n",
       "      <td>0.0</td>\n",
       "      <td>0.0</td>\n",
       "      <td>0.0</td>\n",
       "      <td>35.0</td>\n",
       "    </tr>\n",
       "    <tr>\n",
       "      <th>4</th>\n",
       "      <td>1.0</td>\n",
       "      <td>0.0</td>\n",
       "      <td>0.0</td>\n",
       "      <td>0.0</td>\n",
       "      <td>0.0</td>\n",
       "      <td>0.0</td>\n",
       "      <td>3.0</td>\n",
       "      <td>1.0</td>\n",
       "      <td>0.0</td>\n",
       "      <td>2.0</td>\n",
       "      <td>...</td>\n",
       "      <td>3.0</td>\n",
       "      <td>9.0</td>\n",
       "      <td>0.0</td>\n",
       "      <td>0.0</td>\n",
       "      <td>0.0</td>\n",
       "      <td>4.0</td>\n",
       "      <td>0.0</td>\n",
       "      <td>0.0</td>\n",
       "      <td>0.0</td>\n",
       "      <td>23.0</td>\n",
       "    </tr>\n",
       "    <tr>\n",
       "      <th>...</th>\n",
       "      <td>...</td>\n",
       "      <td>...</td>\n",
       "      <td>...</td>\n",
       "      <td>...</td>\n",
       "      <td>...</td>\n",
       "      <td>...</td>\n",
       "      <td>...</td>\n",
       "      <td>...</td>\n",
       "      <td>...</td>\n",
       "      <td>...</td>\n",
       "      <td>...</td>\n",
       "      <td>...</td>\n",
       "      <td>...</td>\n",
       "      <td>...</td>\n",
       "      <td>...</td>\n",
       "      <td>...</td>\n",
       "      <td>...</td>\n",
       "      <td>...</td>\n",
       "      <td>...</td>\n",
       "      <td>...</td>\n",
       "      <td>...</td>\n",
       "    </tr>\n",
       "    <tr>\n",
       "      <th>76</th>\n",
       "      <td>1.0</td>\n",
       "      <td>0.0</td>\n",
       "      <td>0.0</td>\n",
       "      <td>0.0</td>\n",
       "      <td>0.0</td>\n",
       "      <td>0.0</td>\n",
       "      <td>3.0</td>\n",
       "      <td>0.0</td>\n",
       "      <td>0.0</td>\n",
       "      <td>1.0</td>\n",
       "      <td>...</td>\n",
       "      <td>4.0</td>\n",
       "      <td>8.0</td>\n",
       "      <td>0.0</td>\n",
       "      <td>0.0</td>\n",
       "      <td>1.0</td>\n",
       "      <td>1.0</td>\n",
       "      <td>0.0</td>\n",
       "      <td>0.0</td>\n",
       "      <td>0.0</td>\n",
       "      <td>7.0</td>\n",
       "    </tr>\n",
       "    <tr>\n",
       "      <th>77</th>\n",
       "      <td>1.0</td>\n",
       "      <td>0.0</td>\n",
       "      <td>4.0</td>\n",
       "      <td>0.0</td>\n",
       "      <td>0.0</td>\n",
       "      <td>0.0</td>\n",
       "      <td>1.0</td>\n",
       "      <td>1.0</td>\n",
       "      <td>0.0</td>\n",
       "      <td>0.0</td>\n",
       "      <td>...</td>\n",
       "      <td>3.0</td>\n",
       "      <td>6.0</td>\n",
       "      <td>0.0</td>\n",
       "      <td>0.0</td>\n",
       "      <td>0.0</td>\n",
       "      <td>0.0</td>\n",
       "      <td>0.0</td>\n",
       "      <td>0.0</td>\n",
       "      <td>0.0</td>\n",
       "      <td>20.0</td>\n",
       "    </tr>\n",
       "    <tr>\n",
       "      <th>78</th>\n",
       "      <td>0.0</td>\n",
       "      <td>1.0</td>\n",
       "      <td>2.0</td>\n",
       "      <td>0.0</td>\n",
       "      <td>0.0</td>\n",
       "      <td>0.0</td>\n",
       "      <td>2.0</td>\n",
       "      <td>2.0</td>\n",
       "      <td>0.0</td>\n",
       "      <td>0.0</td>\n",
       "      <td>...</td>\n",
       "      <td>1.0</td>\n",
       "      <td>8.0</td>\n",
       "      <td>0.0</td>\n",
       "      <td>0.0</td>\n",
       "      <td>0.0</td>\n",
       "      <td>0.0</td>\n",
       "      <td>0.0</td>\n",
       "      <td>0.0</td>\n",
       "      <td>0.0</td>\n",
       "      <td>13.0</td>\n",
       "    </tr>\n",
       "    <tr>\n",
       "      <th>79</th>\n",
       "      <td>1.0</td>\n",
       "      <td>0.0</td>\n",
       "      <td>0.0</td>\n",
       "      <td>0.0</td>\n",
       "      <td>0.0</td>\n",
       "      <td>0.0</td>\n",
       "      <td>0.0</td>\n",
       "      <td>0.0</td>\n",
       "      <td>0.0</td>\n",
       "      <td>0.0</td>\n",
       "      <td>...</td>\n",
       "      <td>7.0</td>\n",
       "      <td>3.0</td>\n",
       "      <td>0.0</td>\n",
       "      <td>0.0</td>\n",
       "      <td>0.0</td>\n",
       "      <td>0.0</td>\n",
       "      <td>0.0</td>\n",
       "      <td>0.0</td>\n",
       "      <td>0.0</td>\n",
       "      <td>17.0</td>\n",
       "    </tr>\n",
       "    <tr>\n",
       "      <th>80</th>\n",
       "      <td>0.0</td>\n",
       "      <td>0.0</td>\n",
       "      <td>2.0</td>\n",
       "      <td>0.0</td>\n",
       "      <td>0.0</td>\n",
       "      <td>0.0</td>\n",
       "      <td>1.0</td>\n",
       "      <td>1.0</td>\n",
       "      <td>0.0</td>\n",
       "      <td>0.0</td>\n",
       "      <td>...</td>\n",
       "      <td>2.0</td>\n",
       "      <td>9.0</td>\n",
       "      <td>0.0</td>\n",
       "      <td>0.0</td>\n",
       "      <td>0.0</td>\n",
       "      <td>0.0</td>\n",
       "      <td>0.0</td>\n",
       "      <td>0.0</td>\n",
       "      <td>0.0</td>\n",
       "      <td>12.0</td>\n",
       "    </tr>\n",
       "  </tbody>\n",
       "</table>\n",
       "<p>81 rows × 98 columns</p>\n",
       "</div>"
      ],
      "text/plain": [
       "    ('Abasolo_Homicidio_Homicidio doloso_Con arma de fuego',)  \\\n",
       "0                                                 0.0           \n",
       "1                                                 0.0           \n",
       "2                                                 1.0           \n",
       "3                                                 0.0           \n",
       "4                                                 1.0           \n",
       "..                                                ...           \n",
       "76                                                1.0           \n",
       "77                                                1.0           \n",
       "78                                                0.0           \n",
       "79                                                1.0           \n",
       "80                                                0.0           \n",
       "\n",
       "    ('Abasolo_Homicidio_Homicidio doloso_Con arma blanca',)  \\\n",
       "0                                                 0.0         \n",
       "1                                                 0.0         \n",
       "2                                                 0.0         \n",
       "3                                                 0.0         \n",
       "4                                                 0.0         \n",
       "..                                                ...         \n",
       "76                                                0.0         \n",
       "77                                                0.0         \n",
       "78                                                1.0         \n",
       "79                                                0.0         \n",
       "80                                                0.0         \n",
       "\n",
       "    ('Abasolo_Homicidio_Homicidio doloso_Con otro elemento',)  \\\n",
       "0                                                 0.0           \n",
       "1                                                 0.0           \n",
       "2                                                 0.0           \n",
       "3                                                 0.0           \n",
       "4                                                 0.0           \n",
       "..                                                ...           \n",
       "76                                                0.0           \n",
       "77                                                4.0           \n",
       "78                                                2.0           \n",
       "79                                                0.0           \n",
       "80                                                2.0           \n",
       "\n",
       "    ('Abasolo_Homicidio_Homicidio doloso_No especificado',)  \\\n",
       "0                                                 0.0         \n",
       "1                                                 0.0         \n",
       "2                                                 0.0         \n",
       "3                                                 0.0         \n",
       "4                                                 0.0         \n",
       "..                                                ...         \n",
       "76                                                0.0         \n",
       "77                                                0.0         \n",
       "78                                                0.0         \n",
       "79                                                0.0         \n",
       "80                                                0.0         \n",
       "\n",
       "    ('Abasolo_Homicidio_Homicidio culposo_Con arma de fuego',)  \\\n",
       "0                                                 0.0            \n",
       "1                                                 0.0            \n",
       "2                                                 0.0            \n",
       "3                                                 0.0            \n",
       "4                                                 0.0            \n",
       "..                                                ...            \n",
       "76                                                0.0            \n",
       "77                                                0.0            \n",
       "78                                                0.0            \n",
       "79                                                0.0            \n",
       "80                                                0.0            \n",
       "\n",
       "    ('Abasolo_Homicidio_Homicidio culposo_Con arma blanca',)  \\\n",
       "0                                                 0.0          \n",
       "1                                                 0.0          \n",
       "2                                                 0.0          \n",
       "3                                                 0.0          \n",
       "4                                                 0.0          \n",
       "..                                                ...          \n",
       "76                                                0.0          \n",
       "77                                                0.0          \n",
       "78                                                0.0          \n",
       "79                                                0.0          \n",
       "80                                                0.0          \n",
       "\n",
       "    ('Abasolo_Homicidio_Homicidio culposo_En accidente de tránsito',)  \\\n",
       "0                                                 1.0                   \n",
       "1                                                 1.0                   \n",
       "2                                                 1.0                   \n",
       "3                                                 1.0                   \n",
       "4                                                 3.0                   \n",
       "..                                                ...                   \n",
       "76                                                3.0                   \n",
       "77                                                1.0                   \n",
       "78                                                2.0                   \n",
       "79                                                0.0                   \n",
       "80                                                1.0                   \n",
       "\n",
       "    ('Abasolo_Homicidio_Homicidio culposo_Con otro elemento',)  \\\n",
       "0                                                 2.0            \n",
       "1                                                 1.0            \n",
       "2                                                 1.0            \n",
       "3                                                 2.0            \n",
       "4                                                 1.0            \n",
       "..                                                ...            \n",
       "76                                                0.0            \n",
       "77                                                1.0            \n",
       "78                                                2.0            \n",
       "79                                                0.0            \n",
       "80                                                1.0            \n",
       "\n",
       "    ('Abasolo_Homicidio_Homicidio culposo_No especificado',)  \\\n",
       "0                                                 0.0          \n",
       "1                                                 0.0          \n",
       "2                                                 0.0          \n",
       "3                                                 0.0          \n",
       "4                                                 0.0          \n",
       "..                                                ...          \n",
       "76                                                0.0          \n",
       "77                                                0.0          \n",
       "78                                                0.0          \n",
       "79                                                0.0          \n",
       "80                                                0.0          \n",
       "\n",
       "    ('Abasolo_Lesiones_Lesiones dolosas_Con arma de fuego',)  ...  \\\n",
       "0                                                 0.0         ...   \n",
       "1                                                 3.0         ...   \n",
       "2                                                 0.0         ...   \n",
       "3                                                 2.0         ...   \n",
       "4                                                 2.0         ...   \n",
       "..                                                ...         ...   \n",
       "76                                                1.0         ...   \n",
       "77                                                0.0         ...   \n",
       "78                                                0.0         ...   \n",
       "79                                                0.0         ...   \n",
       "80                                                0.0         ...   \n",
       "\n",
       "    ('Abasolo_Narcomenudeo_Narcomenudeo_Narcomenudeo',)  \\\n",
       "0                                                 4.0     \n",
       "1                                                 2.0     \n",
       "2                                                 1.0     \n",
       "3                                                 2.0     \n",
       "4                                                 3.0     \n",
       "..                                                ...     \n",
       "76                                                4.0     \n",
       "77                                                3.0     \n",
       "78                                                1.0     \n",
       "79                                                7.0     \n",
       "80                                                2.0     \n",
       "\n",
       "    ('Abasolo_Amenazas_Amenazas_Amenazas',)  \\\n",
       "0                                       1.0   \n",
       "1                                       3.0   \n",
       "2                                       9.0   \n",
       "3                                       6.0   \n",
       "4                                       9.0   \n",
       "..                                      ...   \n",
       "76                                      8.0   \n",
       "77                                      6.0   \n",
       "78                                      8.0   \n",
       "79                                      3.0   \n",
       "80                                      9.0   \n",
       "\n",
       "    ('Abasolo_Allanamiento de morada_Allanamiento de morada_Allanamiento de morada',)  \\\n",
       "0                                                 0.0                                   \n",
       "1                                                 0.0                                   \n",
       "2                                                 0.0                                   \n",
       "3                                                 0.0                                   \n",
       "4                                                 0.0                                   \n",
       "..                                                ...                                   \n",
       "76                                                0.0                                   \n",
       "77                                                0.0                                   \n",
       "78                                                0.0                                   \n",
       "79                                                0.0                                   \n",
       "80                                                0.0                                   \n",
       "\n",
       "    ('Abasolo_Evasión de presos_Evasión de presos_Evasión de presos',)  \\\n",
       "0                                                 0.0                    \n",
       "1                                                 0.0                    \n",
       "2                                                 0.0                    \n",
       "3                                                 0.0                    \n",
       "4                                                 0.0                    \n",
       "..                                                ...                    \n",
       "76                                                0.0                    \n",
       "77                                                0.0                    \n",
       "78                                                0.0                    \n",
       "79                                                0.0                    \n",
       "80                                                0.0                    \n",
       "\n",
       "    ('Abasolo_Falsedad_Falsedad_Falsedad',)  \\\n",
       "0                                       0.0   \n",
       "1                                       0.0   \n",
       "2                                       0.0   \n",
       "3                                       0.0   \n",
       "4                                       0.0   \n",
       "..                                      ...   \n",
       "76                                      1.0   \n",
       "77                                      0.0   \n",
       "78                                      0.0   \n",
       "79                                      0.0   \n",
       "80                                      0.0   \n",
       "\n",
       "    ('Abasolo_Falsificación_Falsificación_Falsificación',)  \\\n",
       "0                                                 0.0        \n",
       "1                                                 1.0        \n",
       "2                                                 0.0        \n",
       "3                                                 1.0        \n",
       "4                                                 4.0        \n",
       "..                                                ...        \n",
       "76                                                1.0        \n",
       "77                                                0.0        \n",
       "78                                                0.0        \n",
       "79                                                0.0        \n",
       "80                                                0.0        \n",
       "\n",
       "    ('Abasolo_Contra el medio ambiente_Contra el medio ambiente_Contra el medio ambiente',)  \\\n",
       "0                                                 0.0                                         \n",
       "1                                                 0.0                                         \n",
       "2                                                 0.0                                         \n",
       "3                                                 0.0                                         \n",
       "4                                                 0.0                                         \n",
       "..                                                ...                                         \n",
       "76                                                0.0                                         \n",
       "77                                                0.0                                         \n",
       "78                                                0.0                                         \n",
       "79                                                0.0                                         \n",
       "80                                                0.0                                         \n",
       "\n",
       "    ('Abasolo_Delitos cometidos por servidores públicos_Delitos cometidos por servidores públicos_Delitos cometidos por servidores públicos',)  \\\n",
       "0                                                 0.0                                                                                            \n",
       "1                                                 0.0                                                                                            \n",
       "2                                                 0.0                                                                                            \n",
       "3                                                 0.0                                                                                            \n",
       "4                                                 0.0                                                                                            \n",
       "..                                                ...                                                                                            \n",
       "76                                                0.0                                                                                            \n",
       "77                                                0.0                                                                                            \n",
       "78                                                0.0                                                                                            \n",
       "79                                                0.0                                                                                            \n",
       "80                                                0.0                                                                                            \n",
       "\n",
       "    ('Abasolo_Electorales_Electorales_Electorales',)  \\\n",
       "0                                                0.0   \n",
       "1                                                0.0   \n",
       "2                                                0.0   \n",
       "3                                                0.0   \n",
       "4                                                0.0   \n",
       "..                                               ...   \n",
       "76                                               0.0   \n",
       "77                                               0.0   \n",
       "78                                               0.0   \n",
       "79                                               0.0   \n",
       "80                                               0.0   \n",
       "\n",
       "    ('Abasolo_Otros delitos del Fuero Común_Otros delitos del Fuero Común_Otros delitos del Fuero Común',)  \n",
       "0                                                 7.0                                                       \n",
       "1                                                13.0                                                       \n",
       "2                                                17.0                                                       \n",
       "3                                                35.0                                                       \n",
       "4                                                23.0                                                       \n",
       "..                                                ...                                                       \n",
       "76                                                7.0                                                       \n",
       "77                                               20.0                                                       \n",
       "78                                               13.0                                                       \n",
       "79                                               17.0                                                       \n",
       "80                                               12.0                                                       \n",
       "\n",
       "[81 rows x 98 columns]"
      ]
     },
     "execution_count": 3,
     "metadata": {},
     "output_type": "execute_result"
    }
   ],
   "source": [
    "todos_abasolo = delitos.iloc[:, 1:99][:-3]\n",
    "todos_abasolo"
   ]
  },
  {
   "cell_type": "code",
   "execution_count": 4,
   "id": "a8e20fee",
   "metadata": {},
   "outputs": [],
   "source": [
    "todos_abasolo_chido = todos_abasolo.to_numpy().flatten(order='f')"
   ]
  },
  {
   "cell_type": "code",
   "execution_count": 5,
   "id": "0e734113",
   "metadata": {},
   "outputs": [
    {
     "data": {
      "text/plain": [
       "array([ 0.,  0.,  1., ..., 13., 17., 12.])"
      ]
     },
     "execution_count": 5,
     "metadata": {},
     "output_type": "execute_result"
    }
   ],
   "source": [
    "todos_abasolo_chido"
   ]
  },
  {
   "cell_type": "code",
   "execution_count": 6,
   "id": "62670b69",
   "metadata": {},
   "outputs": [],
   "source": [
    "def crear_diferencias(serie):\n",
    "    serie_ori = np.array(serie)\n",
    "    d = serie_ori[1:] - serie_ori[0:-1]\n",
    "    dif = pd.Series(d)\n",
    "    plt.plot(dif)\n",
    "    \n",
    "    return dif"
   ]
  },
  {
   "cell_type": "code",
   "execution_count": 44,
   "id": "acc287d1",
   "metadata": {},
   "outputs": [
    {
     "data": {
      "text/plain": [
       "0        0.0\n",
       "1        1.0\n",
       "2       -1.0\n",
       "3        1.0\n",
       "4       -1.0\n",
       "        ... \n",
       "7932    -9.0\n",
       "7933    13.0\n",
       "7934    -7.0\n",
       "7935     4.0\n",
       "7936    -5.0\n",
       "Length: 7937, dtype: float64"
      ]
     },
     "execution_count": 44,
     "metadata": {},
     "output_type": "execute_result"
    },
    {
     "data": {
      "image/png": "[encoded data removed]",
      "text/plain": [
       "<Figure size 432x288 with 1 Axes>"
      ]
     },
     "metadata": {
      "needs_background": "light"
     },
     "output_type": "display_data"
    }
   ],
   "source": [
    "diferencias_abasolo = crear_diferencias(todos_abasolo_chido)\n",
    "diferencias_abasolo"
   ]
  },
  {
   "cell_type": "code",
   "execution_count": 67,
   "id": "24e56d5c",
   "metadata": {},
   "outputs": [
    {
     "name": "stdout",
     "output_type": "stream",
     "text": [
      "El siguiente mes tendra:  [[0.03031536]\n",
      " [0.00146242]\n",
      " [0.6461149 ]\n",
      " ...\n",
      " [0.00145014]\n",
      " [0.99946827]\n",
      " [0.00144896]]\n",
      "El error es de:  0.6467212705323615\n"
     ]
    },
    {
     "data": {
      "image/png": "[encoded data removed]",
      "text/plain": [
       "<Figure size 432x288 with 1 Axes>"
      ]
     },
     "metadata": {
      "needs_background": "light"
     },
     "output_type": "display_data"
    }
   ],
   "source": [
    "red_neuronal(diferencias_abasolo, 63, 6, 'sigmoid')"
   ]
  },
  {
   "cell_type": "code",
   "execution_count": null,
   "id": "04ddbd8f",
   "metadata": {},
   "outputs": [],
   "source": []
  },
  {
   "cell_type": "markdown",
   "id": "bc2760a3",
   "metadata": {},
   "source": [
    "## Ejemplo con dos series de tiempo"
   ]
  },
  {
   "cell_type": "code",
   "execution_count": 46,
   "id": "9062d8d7",
   "metadata": {},
   "outputs": [
    {
     "data": {
      "text/plain": [
       "0     0.0\n",
       "1     0.0\n",
       "2     1.0\n",
       "3     0.0\n",
       "4     1.0\n",
       "     ... \n",
       "76    1.0\n",
       "77    1.0\n",
       "78    0.0\n",
       "79    1.0\n",
       "80    0.0\n",
       "Name: ('Abasolo_Homicidio_Homicidio doloso_Con arma de fuego',), Length: 81, dtype: float64"
      ]
     },
     "execution_count": 46,
     "metadata": {},
     "output_type": "execute_result"
    }
   ],
   "source": [
    "homi = delitos.iloc[:,1][:-3]\n",
    "homi"
   ]
  },
  {
   "cell_type": "code",
   "execution_count": 47,
   "id": "9e94b1fc",
   "metadata": {},
   "outputs": [],
   "source": [
    "robos = delitos.iloc[:, 40][:-3]"
   ]
  },
  {
   "cell_type": "code",
   "execution_count": 48,
   "id": "94cfd575",
   "metadata": {},
   "outputs": [],
   "source": [
    "homi_multi, y_homi = dividir_serie(homi, 6)"
   ]
  },
  {
   "cell_type": "code",
   "execution_count": 49,
   "id": "d8a61b1e",
   "metadata": {},
   "outputs": [],
   "source": [
    "robos_multi, y_robos = dividir_serie(robos, 6)"
   ]
  },
  {
   "cell_type": "code",
   "execution_count": 50,
   "id": "40843f3c",
   "metadata": {},
   "outputs": [
    {
     "data": {
      "text/plain": [
       "array([[ 0.,  0.,  1.,  0.,  1.,  0.,  0.,  0.,  0.,  0.,  0.,  0.],\n",
       "       [ 0.,  1.,  0.,  1.,  0.,  1.,  0.,  0.,  0.,  0.,  0.,  0.],\n",
       "       [ 1.,  0.,  1.,  0.,  1.,  3.,  0.,  0.,  0.,  0.,  0.,  0.],\n",
       "       [ 0.,  1.,  0.,  1.,  3.,  1.,  0.,  0.,  0.,  0.,  0.,  0.],\n",
       "       [ 1.,  0.,  1.,  3.,  1.,  2.,  0.,  0.,  0.,  0.,  0.,  1.],\n",
       "       [ 0.,  1.,  3.,  1.,  2.,  0.,  0.,  0.,  0.,  0.,  1.,  0.],\n",
       "       [ 1.,  3.,  1.,  2.,  0.,  0.,  0.,  0.,  0.,  1.,  0.,  0.],\n",
       "       [ 3.,  1.,  2.,  0.,  0.,  0.,  0.,  0.,  1.,  0.,  0.,  0.],\n",
       "       [ 1.,  2.,  0.,  0.,  0.,  1.,  0.,  1.,  0.,  0.,  0.,  1.],\n",
       "       [ 2.,  0.,  0.,  0.,  1.,  1.,  1.,  0.,  0.,  0.,  1.,  0.],\n",
       "       [ 0.,  0.,  0.,  1.,  1.,  0.,  0.,  0.,  0.,  1.,  0.,  1.],\n",
       "       [ 0.,  0.,  1.,  1.,  0.,  1.,  0.,  0.,  1.,  0.,  1.,  0.],\n",
       "       [ 0.,  1.,  1.,  0.,  1.,  2.,  0.,  1.,  0.,  1.,  0.,  1.],\n",
       "       [ 1.,  1.,  0.,  1.,  2.,  1.,  1.,  0.,  1.,  0.,  1.,  0.],\n",
       "       [ 1.,  0.,  1.,  2.,  1.,  1.,  0.,  1.,  0.,  1.,  0.,  0.],\n",
       "       [ 0.,  1.,  2.,  1.,  1.,  0.,  1.,  0.,  1.,  0.,  0.,  1.],\n",
       "       [ 1.,  2.,  1.,  1.,  0.,  0.,  0.,  1.,  0.,  0.,  1.,  0.],\n",
       "       [ 2.,  1.,  1.,  0.,  0.,  0.,  1.,  0.,  0.,  1.,  0.,  0.],\n",
       "       [ 1.,  1.,  0.,  0.,  0.,  0.,  0.,  0.,  1.,  0.,  0.,  0.],\n",
       "       [ 1.,  0.,  0.,  0.,  0.,  0.,  0.,  1.,  0.,  0.,  0.,  0.],\n",
       "       [ 0.,  0.,  0.,  0.,  0.,  0.,  1.,  0.,  0.,  0.,  0.,  1.],\n",
       "       [ 0.,  0.,  0.,  0.,  0.,  2.,  0.,  0.,  0.,  0.,  1.,  0.],\n",
       "       [ 0.,  0.,  0.,  0.,  2.,  2.,  0.,  0.,  0.,  1.,  0.,  0.],\n",
       "       [ 0.,  0.,  0.,  2.,  2.,  0.,  0.,  0.,  1.,  0.,  0.,  0.],\n",
       "       [ 0.,  0.,  2.,  2.,  0.,  0.,  0.,  1.,  0.,  0.,  0.,  0.],\n",
       "       [ 0.,  2.,  2.,  0.,  0.,  1.,  1.,  0.,  0.,  0.,  0.,  0.],\n",
       "       [ 2.,  2.,  0.,  0.,  1.,  0.,  0.,  0.,  0.,  0.,  0.,  0.],\n",
       "       [ 2.,  0.,  0.,  1.,  0.,  0.,  0.,  0.,  0.,  0.,  0.,  0.],\n",
       "       [ 0.,  0.,  1.,  0.,  0.,  1.,  0.,  0.,  0.,  0.,  0.,  0.],\n",
       "       [ 0.,  1.,  0.,  0.,  1.,  0.,  0.,  0.,  0.,  0.,  0.,  0.],\n",
       "       [ 1.,  0.,  0.,  1.,  0.,  4.,  0.,  0.,  0.,  0.,  0.,  0.],\n",
       "       [ 0.,  0.,  1.,  0.,  4.,  3.,  0.,  0.,  0.,  0.,  0.,  0.],\n",
       "       [ 0.,  1.,  0.,  4.,  3.,  0.,  0.,  0.,  0.,  0.,  0.,  0.],\n",
       "       [ 1.,  0.,  4.,  3.,  0.,  4.,  0.,  0.,  0.,  0.,  0.,  0.],\n",
       "       [ 0.,  4.,  3.,  0.,  4.,  2.,  0.,  0.,  0.,  0.,  0.,  0.],\n",
       "       [ 4.,  3.,  0.,  4.,  2.,  6.,  0.,  0.,  0.,  0.,  0.,  0.],\n",
       "       [ 3.,  0.,  4.,  2.,  6.,  3.,  0.,  0.,  0.,  0.,  0.,  0.],\n",
       "       [ 0.,  4.,  2.,  6.,  3.,  3.,  0.,  0.,  0.,  0.,  0.,  0.],\n",
       "       [ 4.,  2.,  6.,  3.,  3.,  6.,  0.,  0.,  0.,  0.,  0.,  1.],\n",
       "       [ 2.,  6.,  3.,  3.,  6.,  2.,  0.,  0.,  0.,  0.,  1.,  0.],\n",
       "       [ 6.,  3.,  3.,  6.,  2.,  6.,  0.,  0.,  0.,  1.,  0.,  0.],\n",
       "       [ 3.,  3.,  6.,  2.,  6.,  4.,  0.,  0.,  1.,  0.,  0.,  0.],\n",
       "       [ 3.,  6.,  2.,  6.,  4.,  7.,  0.,  1.,  0.,  0.,  0.,  0.],\n",
       "       [ 6.,  2.,  6.,  4.,  7.,  7.,  1.,  0.,  0.,  0.,  0.,  0.],\n",
       "       [ 2.,  6.,  4.,  7.,  7.,  9.,  0.,  0.,  0.,  0.,  0.,  0.],\n",
       "       [ 6.,  4.,  7.,  7.,  9.,  7.,  0.,  0.,  0.,  0.,  0.,  0.],\n",
       "       [ 4.,  7.,  7.,  9.,  7., 10.,  0.,  0.,  0.,  0.,  0.,  0.],\n",
       "       [ 7.,  7.,  9.,  7., 10.,  9.,  0.,  0.,  0.,  0.,  0.,  0.],\n",
       "       [ 7.,  9.,  7., 10.,  9.,  2.,  0.,  0.,  0.,  0.,  0.,  0.],\n",
       "       [ 9.,  7., 10.,  9.,  2.,  1.,  0.,  0.,  0.,  0.,  0.,  0.],\n",
       "       [ 7., 10.,  9.,  2.,  1.,  4.,  0.,  0.,  0.,  0.,  0.,  0.],\n",
       "       [10.,  9.,  2.,  1.,  4.,  1.,  0.,  0.,  0.,  0.,  0.,  0.],\n",
       "       [ 9.,  2.,  1.,  4.,  1.,  4.,  0.,  0.,  0.,  0.,  0.,  0.],\n",
       "       [ 2.,  1.,  4.,  1.,  4.,  3.,  0.,  0.,  0.,  0.,  0.,  1.],\n",
       "       [ 1.,  4.,  1.,  4.,  3.,  2.,  0.,  0.,  0.,  0.,  1.,  0.],\n",
       "       [ 4.,  1.,  4.,  3.,  2.,  1.,  0.,  0.,  0.,  1.,  0.,  0.],\n",
       "       [ 1.,  4.,  3.,  2.,  1.,  2.,  0.,  0.,  1.,  0.,  0.,  0.],\n",
       "       [ 4.,  3.,  2.,  1.,  2.,  2.,  0.,  1.,  0.,  0.,  0.,  0.],\n",
       "       [ 3.,  2.,  1.,  2.,  2.,  1.,  1.,  0.,  0.,  0.,  0.,  1.],\n",
       "       [ 2.,  1.,  2.,  2.,  1.,  1.,  0.,  0.,  0.,  0.,  1.,  0.],\n",
       "       [ 1.,  2.,  2.,  1.,  1.,  2.,  0.,  0.,  0.,  1.,  0.,  0.],\n",
       "       [ 2.,  2.,  1.,  1.,  2.,  2.,  0.,  0.,  1.,  0.,  0.,  0.],\n",
       "       [ 2.,  1.,  1.,  2.,  2.,  0.,  0.,  1.,  0.,  0.,  0.,  0.],\n",
       "       [ 1.,  1.,  2.,  2.,  0.,  1.,  1.,  0.,  0.,  0.,  0.,  0.],\n",
       "       [ 1.,  2.,  2.,  0.,  1.,  1.,  0.,  0.,  0.,  0.,  0.,  0.],\n",
       "       [ 2.,  2.,  0.,  1.,  1.,  1.,  0.,  0.,  0.,  0.,  0.,  0.],\n",
       "       [ 2.,  0.,  1.,  1.,  1.,  1.,  0.,  0.,  0.,  0.,  0.,  0.],\n",
       "       [ 0.,  1.,  1.,  1.,  1.,  4.,  0.,  0.,  0.,  0.,  0.,  0.],\n",
       "       [ 1.,  1.,  1.,  1.,  4.,  2.,  0.,  0.,  0.,  0.,  0.,  0.],\n",
       "       [ 1.,  1.,  1.,  4.,  2.,  0.,  0.,  0.,  0.,  0.,  0.,  0.],\n",
       "       [ 1.,  1.,  4.,  2.,  0.,  2.,  0.,  0.,  0.,  0.,  0.,  0.],\n",
       "       [ 1.,  4.,  2.,  0.,  2.,  1.,  0.,  0.,  0.,  0.,  0.,  0.],\n",
       "       [ 4.,  2.,  0.,  2.,  1.,  1.,  0.,  0.,  0.,  0.,  0.,  0.],\n",
       "       [ 2.,  0.,  2.,  1.,  1.,  0.,  0.,  0.,  0.,  0.,  0.,  0.],\n",
       "       [ 0.,  2.,  1.,  1.,  0.,  1.,  0.,  0.,  0.,  0.,  0.,  1.]])"
      ]
     },
     "execution_count": 50,
     "metadata": {},
     "output_type": "execute_result"
    }
   ],
   "source": [
    "homi_robos = np.append(homi_multi, robos_multi, axis=1)\n",
    "homi_robos"
   ]
  },
  {
   "cell_type": "code",
   "execution_count": 51,
   "id": "875470eb",
   "metadata": {},
   "outputs": [
    {
     "data": {
      "text/plain": [
       "(75, 12)"
      ]
     },
     "execution_count": 51,
     "metadata": {},
     "output_type": "execute_result"
    }
   ],
   "source": [
    "homi_robos.shape"
   ]
  },
  {
   "cell_type": "code",
   "execution_count": 52,
   "id": "97fb21c2",
   "metadata": {},
   "outputs": [],
   "source": [
    "X_train_juntos = homi_robos[:63]"
   ]
  },
  {
   "cell_type": "code",
   "execution_count": 53,
   "id": "ed5c58a0",
   "metadata": {},
   "outputs": [
    {
     "data": {
      "text/plain": [
       "array([ 1.,  3.,  1.,  2.,  0.,  0.,  0.,  1.,  1.,  0.,  1.,  2.,  1.,\n",
       "        1.,  0.,  0.,  0.,  0.,  0.,  0.,  2.,  2.,  0.,  0.,  1.,  0.,\n",
       "        0.,  1.,  0.,  4.,  3.,  0.,  4.,  2.,  6.,  3.,  3.,  6.,  2.,\n",
       "        6.,  4.,  7.,  7.,  9.,  7., 10.,  9.,  2.,  1.,  4.,  1.,  4.,\n",
       "        3.,  2.,  1.,  2.,  2.,  1.,  1.,  2.,  2.,  0.,  1.,  1.,  1.,\n",
       "        1.,  4.,  2.,  0.,  2.,  1.,  1.,  0.,  1.,  0.])"
      ]
     },
     "execution_count": 53,
     "metadata": {},
     "output_type": "execute_result"
    }
   ],
   "source": [
    "y_homi"
   ]
  },
  {
   "cell_type": "code",
   "execution_count": 54,
   "id": "953f6e46",
   "metadata": {},
   "outputs": [],
   "source": [
    "y_train_juntos = y_homi[:63]"
   ]
  },
  {
   "cell_type": "code",
   "execution_count": 55,
   "id": "998bcbe1",
   "metadata": {},
   "outputs": [],
   "source": [
    "X_test_juntos = homi_robos[63:]"
   ]
  },
  {
   "cell_type": "code",
   "execution_count": 56,
   "id": "a3607ec6",
   "metadata": {},
   "outputs": [],
   "source": [
    "y_test_juntos = y_homi[63:]"
   ]
  },
  {
   "cell_type": "code",
   "execution_count": 57,
   "id": "e6829dda",
   "metadata": {},
   "outputs": [
    {
     "data": {
      "text/plain": [
       "<keras.callbacks.History at 0x7f326c6e6e50>"
      ]
     },
     "execution_count": 57,
     "metadata": {},
     "output_type": "execute_result"
    }
   ],
   "source": [
    "n_pasos = 6*2\n",
    "\n",
    "# Definir modelo\n",
    "model = Sequential()\n",
    "model.add(Dense(10, activation='relu', input_dim=n_pasos))\n",
    "model.add(Dense(10, activation='relu', input_dim=10))\n",
    "model.add(Dense(10, activation='relu', input_dim=10))\n",
    "model.add(Dense(10, activation='relu', input_dim=10))\n",
    "model.add(Dense(10, activation='relu', input_dim=10))\n",
    "model.add(Dense(1, activation=\"relu\", input_dim=10))\n",
    "model.compile(optimizer='adam', loss='mse')\n",
    "\n",
    "# Entrenar modelo\n",
    "model.fit(X_train_juntos, y_train_juntos, epochs=10000, verbose=0)"
   ]
  },
  {
   "cell_type": "code",
   "execution_count": 58,
   "id": "4e313c9c",
   "metadata": {},
   "outputs": [
    {
     "data": {
      "text/plain": [
       "75    2.0\n",
       "76    1.0\n",
       "77    1.0\n",
       "78    0.0\n",
       "79    1.0\n",
       "80    0.0\n",
       "Name: ('Abasolo_Homicidio_Homicidio doloso_Con arma de fuego',), dtype: float64"
      ]
     },
     "execution_count": 58,
     "metadata": {},
     "output_type": "execute_result"
    }
   ],
   "source": [
    "homi.tail(6)"
   ]
  },
  {
   "cell_type": "code",
   "execution_count": 59,
   "id": "40c49dd1",
   "metadata": {},
   "outputs": [
    {
     "data": {
      "text/plain": [
       "75    0.0\n",
       "76    0.0\n",
       "77    0.0\n",
       "78    0.0\n",
       "79    1.0\n",
       "80    0.0\n",
       "Name: ('Abasolo_Robo_Robo a casa habitación_Con violencia',), dtype: float64"
      ]
     },
     "execution_count": 59,
     "metadata": {},
     "output_type": "execute_result"
    }
   ],
   "source": [
    "robos.tail(6)"
   ]
  },
  {
   "cell_type": "code",
   "execution_count": 60,
   "id": "71b015db",
   "metadata": {},
   "outputs": [
    {
     "name": "stdout",
     "output_type": "stream",
     "text": [
      "El siguiente mes tendra:  [[0.]\n",
      " [0.]\n",
      " [0.]\n",
      " [0.]\n",
      " [0.]\n",
      " [0.]\n",
      " [0.]\n",
      " [0.]\n",
      " [0.]\n",
      " [0.]\n",
      " [0.]\n",
      " [0.]]\n"
     ]
    }
   ],
   "source": [
    "# Mostrar predicciones\n",
    "x_input = array([[2,1,1,0,1,0,0,0,0,0,1,0]])\n",
    "#x_input = x_input.reshape((1, n_pasos))\n",
    "yhat = model.predict(X_test_juntos, verbose=0)\n",
    "\n",
    "print(\"El siguiente mes tendra: \", yhat)"
   ]
  },
  {
   "cell_type": "code",
   "execution_count": 61,
   "id": "d3e541a6",
   "metadata": {},
   "outputs": [
    {
     "data": {
      "text/plain": [
       "[<matplotlib.lines.Line2D at 0x7f32a44e4580>]"
      ]
     },
     "execution_count": 61,
     "metadata": {},
     "output_type": "execute_result"
    },
    {
     "data": {
      "image/png": "[encoded data removed]",
      "text/plain": [
       "<Figure size 432x288 with 1 Axes>"
      ]
     },
     "metadata": {
      "needs_background": "light"
     },
     "output_type": "display_data"
    }
   ],
   "source": [
    "plt.plot(yhat)\n",
    "plt.plot(y_test_juntos)"
   ]
  },
  {
   "cell_type": "code",
   "execution_count": 62,
   "id": "c38d370e",
   "metadata": {},
   "outputs": [
    {
     "data": {
      "text/plain": [
       "1.1666666666666667"
      ]
     },
     "execution_count": 62,
     "metadata": {},
     "output_type": "execute_result"
    }
   ],
   "source": [
    "#relu\n",
    "dif_jun = np.average(np.abs(yhat-y_test_juntos))\n",
    "dif_jun"
   ]
  },
  {
   "cell_type": "markdown",
   "id": "5eb65c2d",
   "metadata": {},
   "source": [
    "Intentar con todos los delitos de Abasolo, todas las series de tiempo de diferencias."
   ]
  },
  {
   "cell_type": "code",
   "execution_count": null,
   "id": "25daa703",
   "metadata": {},
   "outputs": [],
   "source": []
  }
 ],
 "metadata": {
  "kernelspec": {
   "display_name": "Python 3 (ipykernel)",
   "language": "python",
   "name": "python3"
  },
  "language_info": {
   "codemirror_mode": {
    "name": "ipython",
    "version": 3
   },
   "file_extension": ".py",
   "mimetype": "text/x-python",
   "name": "python",
   "nbconvert_exporter": "python",
   "pygments_lexer": "ipython3",
   "version": "3.9.7"
  }
 },
 "nbformat": 4,
 "nbformat_minor": 5
}
