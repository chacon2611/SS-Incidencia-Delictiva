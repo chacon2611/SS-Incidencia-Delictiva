{
 "cells": [
  {
   "cell_type": "markdown",
   "metadata": {},
   "source": [
    "# Pre-procesamiento"
   ]
  },
  {
   "cell_type": "markdown",
   "metadata": {},
   "source": [
    "Importamos las librerías necesarias."
   ]
  },
  {
   "cell_type": "code",
   "execution_count": 1,
   "metadata": {},
   "outputs": [],
   "source": [
    "import pandas as pd\n",
    "import numpy as np\n",
    "import seaborn as sns\n",
    "import matplotlib.pyplot as plt\n",
    "import collections\n",
    "import itertools\n",
    "from itertools import cycle    "
   ]
  },
  {
   "cell_type": "markdown",
   "metadata": {},
   "source": [
    "Leemos nuestros datos."
   ]
  },
  {
   "cell_type": "code",
   "execution_count": 2,
   "metadata": {},
   "outputs": [],
   "source": [
    "df = pd.read_csv(\"/home/antonio/git/SS-Incidencia-Delictiva/Datos/IDM_NM_sep21.csv\", encoding='latin-1')"
   ]
  },
  {
   "cell_type": "markdown",
   "metadata": {},
   "source": [
    "Cuando hacemos el filtrado nos genera nuevos índices los cuales provoca un error en nuestra función, por lo cual hacemos uso del **reset_index** la cual nos genera una nueva columna de índices la cual también borramos."
   ]
  },
  {
   "cell_type": "code",
   "execution_count": 3,
   "metadata": {},
   "outputs": [],
   "source": [
    "df_guana = df['Entidad'] == 'Guanajuato'\n",
    "df_guana = df[df_guana]\n",
    "df_guana.reset_index(inplace = True)\n",
    "df_guana = df_guana.drop(['index'], axis=1)"
   ]
  },
  {
   "cell_type": "code",
   "execution_count": 4,
   "metadata": {},
   "outputs": [],
   "source": [
    "def arreglar_datos(dataset):\n",
    "    df_chido_corto = dataset.iloc[:,[1,2,3,4,5,6,7,8,0]]\n",
    "    \n",
    "    meses = cycle([\"Enero\",\"Febrero\",\"Marzo\",\"Abril\",\"Mayo\",\"Junio\",\"Julio\",\n",
    "        \"Agosto\",\"Septiembre\",\"Octubre\",\"Noviembre\",\"Diciembre\"])\n",
    "\n",
    "    df_chido_chido = df_chido_corto.loc[np.repeat(df_chido_corto.index, 12)]\n",
    "    df_chido_chido['Mes'] = [next(meses) for j in range(len(df_chido_chido))]\n",
    "    df_chido_chido.reset_index(inplace = True)\n",
    "    \n",
    "    df_transpuesto = dataset.iloc[:,[9,10,11,12,13,14,15,16,17,18,19,20]].transpose()\n",
    "    \n",
    "    lista = []\n",
    "\n",
    "    for i in range(len(df_chido_corto)):\n",
    "        lista.append(df_transpuesto[i])\n",
    "\n",
    "    chido = pd.concat(lista).to_list()\n",
    "    df_chido_chido['Cantidad'] = chido\n",
    "    \n",
    "    return df_chido_chido"
   ]
  },
  {
   "cell_type": "code",
   "execution_count": null,
   "metadata": {},
   "outputs": [],
   "source": [
    "arreglar_datos(df)"
   ]
  }
 ],
 "metadata": {
  "kernelspec": {
   "display_name": "Python 3",
   "language": "python",
   "name": "python3"
  },
  "language_info": {
   "codemirror_mode": {
    "name": "ipython",
    "version": 3
   },
   "file_extension": ".py",
   "mimetype": "text/x-python",
   "name": "python",
   "nbconvert_exporter": "python",
   "pygments_lexer": "ipython3",
   "version": "3.8.5"
  }
 },
 "nbformat": 4,
 "nbformat_minor": 4
}
